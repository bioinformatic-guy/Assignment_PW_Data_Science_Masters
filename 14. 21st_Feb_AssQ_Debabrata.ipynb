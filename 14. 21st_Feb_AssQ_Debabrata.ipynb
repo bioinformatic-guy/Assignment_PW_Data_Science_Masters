{
 "cells": [
  {
   "cell_type": "markdown",
   "id": "b575023b-7261-4bac-b04b-371adbf53254",
   "metadata": {},
   "source": [
    "# Assignment 21st Feb (Web Scrapping)"
   ]
  },
  {
   "cell_type": "markdown",
   "id": "aca09ecf-ff50-4dd0-a429-914960ef4179",
   "metadata": {},
   "source": [
    "## Q1. What is Web Scraping? Why is it Used? Give three areas where Web Scraping is used to get data."
   ]
  },
  {
   "cell_type": "markdown",
   "id": "933a433c-8be9-44b6-8583-2f2fc0fdae0a",
   "metadata": {},
   "source": [
    "Web scraping is the process of extracting data from websites using automated software or tools. The software or tools can access the website's HTML code and extract the data, which can then be saved to a local file or database for further analysis.\n",
    "\n",
    "Web scraping is used for a variety of reasons, including:\n",
    "* Data collection: Web scraping is used to collect data from multiple websites, such as product prices, reviews, and availability, to create a comprehensive database for analysis.\n",
    "* Market research: Web scraping is used to collect data on competitors, market trends, and customer behavior to gain insights into the market and make informed decisions.\n",
    "* Automation: Web scraping is used to automate repetitive tasks such as data entry, data mining, and content aggregation, saving time and resources.\n",
    "\n",
    "Here are three specific areas where web scraping is commonly used to get data:\n",
    "\n",
    "1. E-commerce: Web scraping is used to collect product information, prices, and reviews from e-commerce websites like Amazon, eBay, and Walmart to create a comprehensive product database.\n",
    "2. Social media: Web scraping is used to collect data from social media websites like Twitter, Facebook, and Instagram to monitor trends, sentiment, and user behavior.\n",
    "3. Research: Web scraping is used to collect data from scientific journals, news websites, and other sources for research purposes. For example, researchers may use web scraping to collect data on weather patterns, air quality, or disease outbreaks.\n"
   ]
  },
  {
   "cell_type": "markdown",
   "id": "2e084a8c-512b-47a2-8b4b-6ee41603333b",
   "metadata": {},
   "source": [
    "## Q2. What are the different methods used for Web Scraping?"
   ]
  },
  {
   "cell_type": "markdown",
   "id": "ee26273b-6b31-4d76-ae82-315693816d98",
   "metadata": {},
   "source": [
    "There are several methods used for web scraping, including:\n",
    "\n",
    "1. Parsing HTML: This involves using libraries like BeautifulSoup, lxml, or html5lib to parse the HTML code of a webpage and extract the required data.\n",
    "\n",
    "2. Using APIs: Some websites provide APIs (Application Programming Interfaces) that allow developers to extract data without the need for web scraping. APIs provide structured data in a standardized format (such as JSON or XML) and can be accessed using an API key.\n",
    "\n",
    "3. Automated browsing: This involves using a headless browser like Selenium or Puppeteer to navigate to a website and extract data. Automated browsing can simulate user behavior and interaction with the website.\n",
    "\n",
    "Each method has its advantages and disadvantages, and the choice of method depends on the specific requirements of the web scraping task."
   ]
  },
  {
   "cell_type": "markdown",
   "id": "45401344-afd4-4d5e-871e-a2a83ce72a7d",
   "metadata": {},
   "source": [
    "## Q3. What is Beautiful Soup? Why is it used?"
   ]
  },
  {
   "cell_type": "markdown",
   "id": "98016110-d16d-4c8d-862d-41806b38db52",
   "metadata": {},
   "source": [
    "Beautiful Soup is a Python library that is used for web scraping purposes. It is used to extract data from HTML and XML files by providing a way to navigate and search the tree-like structure of the document. Beautiful Soup is designed to handle imperfect and poorly structured HTML code, making it an effective tool for web scraping.\n",
    "\n",
    "Some of the key features of Beautiful Soup include:\n",
    "\n",
    "1. Easy to learn and use: Beautiful Soup provides a simple and intuitive API for parsing HTML and XML documents, making it easy to get started with web scraping.\n",
    "2. Robust parsing engine: Beautiful Soup is built on top of popular Python parsing libraries like lxml and html5lib, giving it a robust and reliable parsing engine that can handle a wide range of HTML and XML documents.\n",
    "3. Flexible searching and navigation: Beautiful Soup provides powerful tools for searching and navigating the document tree, including tag name, attribute value, text content, and more.\n",
    "4. Unicode support: Beautiful Soup supports Unicode out of the box, making it easy to handle non-ASCII characters and text in different languages.\n",
    "5. Integration with other Python libraries: Beautiful Soup can be easily integrated with other Python libraries like Requests, which is commonly used for making HTTP requests to websites."
   ]
  },
  {
   "cell_type": "markdown",
   "id": "39f62c7a-12cd-466b-a4fd-9699d8a3e0ce",
   "metadata": {},
   "source": [
    "## Q4. Why is flask used in this Web Scraping project?"
   ]
  },
  {
   "cell_type": "markdown",
   "id": "438fc646-8418-493c-b42b-ebc0002e7ad5",
   "metadata": {},
   "source": [
    "Flask is a lightweight web framework for Python that is commonly used in web scraping projects for several reasons:\n",
    "\n",
    "1. Easy to set up: Flask is easy to install and set up, making it a popular choice for developers who want to quickly prototype a web scraping project.\n",
    "2. Flexible routing: Flask provides a flexible routing system that allows developers to define custom endpoints for handling different types of requests, which is useful for web scraping projects that involve accessing data from multiple sources.\n",
    "3. Template rendering: Flask includes a template engine that makes it easy to render HTML pages with dynamic content, which can be useful for displaying scraped data in a user-friendly format.\n",
    "4. Integration with other libraries: Flask can be easily integrated with other Python libraries commonly used in web scraping projects, such as Requests for making HTTP requests and Beautiful Soup for parsing HTML and XML.\n",
    "5. Lightweight and scalable: Flask is a lightweight framework that is well-suited for small to medium-sized web scraping projects. It is also highly scalable and can be used to build larger web applications if needed."
   ]
  },
  {
   "cell_type": "markdown",
   "id": "8dce7ebb-8722-4be5-a98c-cbf2aa234ab7",
   "metadata": {},
   "source": [
    "## Q5. Write the names of AWS services used in this project. Also, explain the use of each service."
   ]
  },
  {
   "cell_type": "markdown",
   "id": "d0f1fbd1-338c-477c-b5cf-f3694a554995",
   "metadata": {},
   "source": [
    "The AWS services used in this projects:\n",
    "1. AWS Beanstalk\n",
    "    * AWS Elastic Beanstalk automates the details of capacity provisioning, load balancing, auto scaling, and application deployment,  creating an environment that runs a version of your application. You can simply upload your deployable code (e.g., WAR file), and AWS Elastic Beanstalk does the rest.\n",
    "2. CodePipeline\n",
    "    * AWS CodePipeline is a fully managed continuous delivery service that helps you automate your release pipelines for fast and reliable application and infrastructure updates.\n",
    "\n"
   ]
  },
  {
   "cell_type": "markdown",
   "id": "284ed0ba-a034-42ed-930e-a702e225ef9d",
   "metadata": {},
   "source": [
    "---"
   ]
  },
  {
   "cell_type": "markdown",
   "id": "b7beee0c-b8fb-4816-a825-4eb54c50b380",
   "metadata": {},
   "source": [
    "Created by -> Debabrata"
   ]
  }
 ],
 "metadata": {
  "kernelspec": {
   "display_name": "Python 3 (ipykernel)",
   "language": "python",
   "name": "python3"
  },
  "language_info": {
   "codemirror_mode": {
    "name": "ipython",
    "version": 3
   },
   "file_extension": ".py",
   "mimetype": "text/x-python",
   "name": "python",
   "nbconvert_exporter": "python",
   "pygments_lexer": "ipython3",
   "version": "3.10.8"
  }
 },
 "nbformat": 4,
 "nbformat_minor": 5
}
