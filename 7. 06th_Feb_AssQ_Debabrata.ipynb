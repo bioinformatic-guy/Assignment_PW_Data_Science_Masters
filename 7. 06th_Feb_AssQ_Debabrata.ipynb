{
 "cells": [
  {
   "cell_type": "markdown",
   "id": "9993dcd3-bb8e-459d-8d28-88886bea10a0",
   "metadata": {},
   "source": [
    "# Assignment 6th Feb"
   ]
  },
  {
   "cell_type": "markdown",
   "id": "b4bbc8c9-e065-44b4-87fa-6f049c657ae4",
   "metadata": {},
   "source": [
    "## Q1. Create a function which will take a list as an argument and return the product of all the numbers after creating a flat list. Use the below-given list as an argument for your function.\n",
    "\n",
    "`list1 = [1,2,3,4, [44,55,66, True], False, (34,56,78,89,34), {1,2,3,3,2,1}, {1:34, \"key2\": [55, 67, 78, 89], 4: (45,\n",
    "22, 61, 34)}, [56, 'data science'], 'Machine Learning']`"
   ]
  },
  {
   "cell_type": "code",
   "execution_count": 13,
   "id": "ed7911fc-d0f9-47c4-a0bc-32c19ad14f05",
   "metadata": {},
   "outputs": [],
   "source": [
    "list1 = [1,2,3,4, [44,55,66, True], False, (34,56,78,89,34), {1,2,3,3,2,1}, \n",
    "         {1:34, \"key2\": [55, 67, 78, 89], 4: (45, 22, 61, 34)}, [56, 'data science'], 'Machine Learning']"
   ]
  },
  {
   "cell_type": "code",
   "execution_count": 14,
   "id": "e6fc9ae1-117d-439a-be6c-9647c796f54e",
   "metadata": {},
   "outputs": [
    {
     "data": {
      "text/plain": [
       "[1,\n",
       " 2,\n",
       " 3,\n",
       " 4,\n",
       " [44, 55, 66, True],\n",
       " False,\n",
       " (34, 56, 78, 89, 34),\n",
       " {1, 2, 3},\n",
       " {1: 34, 'key2': [55, 67, 78, 89], 4: (45, 22, 61, 34)},\n",
       " [56, 'data science'],\n",
       " 'Machine Learning']"
      ]
     },
     "execution_count": 14,
     "metadata": {},
     "output_type": "execute_result"
    }
   ],
   "source": [
    "list1"
   ]
  },
  {
   "cell_type": "code",
   "execution_count": 5,
   "id": "12e65eb1-516e-4224-83be-946b4aa93202",
   "metadata": {},
   "outputs": [
    {
     "data": {
      "text/plain": [
       "list"
      ]
     },
     "execution_count": 5,
     "metadata": {},
     "output_type": "execute_result"
    }
   ],
   "source": [
    "type(list1)"
   ]
  },
  {
   "cell_type": "code",
   "execution_count": 6,
   "id": "b069d5d8-23ca-4bf7-a2f4-5c1efc4d42fd",
   "metadata": {},
   "outputs": [],
   "source": [
    "def flatten_and_multiply(lst):\n",
    "    def flatten(l):\n",
    "        for el in l:\n",
    "            if isinstance(el, (list, tuple, set)):\n",
    "                yield from flatten(el)\n",
    "            else:\n",
    "                yield el\n",
    "\n",
    "    product = 1\n",
    "    for i in flatten(lst):\n",
    "        if isinstance(i, int):\n",
    "            product *= i\n",
    "    return product"
   ]
  },
  {
   "cell_type": "code",
   "execution_count": 15,
   "id": "c8b83191-92b9-4749-937f-fce382f2505a",
   "metadata": {},
   "outputs": [
    {
     "data": {
      "text/plain": [
       "0"
      ]
     },
     "execution_count": 15,
     "metadata": {},
     "output_type": "execute_result"
    }
   ],
   "source": [
    "flatten_and_multiply(list1)"
   ]
  },
  {
   "cell_type": "markdown",
   "id": "45462362-9d0e-4e3d-99d4-3429b403e925",
   "metadata": {},
   "source": [
    "As `List1` contains `False`, which is treated as `0`. The Product output is Zero."
   ]
  },
  {
   "cell_type": "markdown",
   "id": "d2a11a07-ce38-4940-9b85-688e998c5f1c",
   "metadata": {},
   "source": [
    "## Q2. Write a python program for encrypting a message sent to you by your friend. The logic of encryption should be such that, for a the output should be z. For b, the output should be y. For c, the output should be x respectively. Also, the whitespace should be replaced with a dollar sign. Keep the punctuation marks unchanged.\n",
    "Input Sentence: I want to become a Data Scientist."
   ]
  },
  {
   "cell_type": "code",
   "execution_count": 18,
   "id": "7adbadce-8025-4688-8abb-ee651f5ab30c",
   "metadata": {},
   "outputs": [],
   "source": [
    "def encrypt(text):\n",
    "    t=text.lower()\n",
    "    encrypt_dict = {\n",
    "        'a': 'z', 'b': 'y', 'c': 'x', 'd': 'w', 'e': 'v',\n",
    "        'f': 'u', 'g': 't', 'h': 's', 'i': 'r', 'j': 'q',\n",
    "        'k': 'p', 'l': 'o', 'm': 'n', 'n': 'm', 'o': 'l',\n",
    "        'p': 'k', 'q': 'j', 'r': 'i', 's': 'h', 't': 'g',\n",
    "        'u': 'f', 'v': 'e', 'w': 'd', 'x': 'c', 'y': 'b',\n",
    "        'z': 'a', ' ': '$'\n",
    "    }\n",
    "    encrypted_text = ''\n",
    "    for char in t:\n",
    "        if char in encrypt_dict:\n",
    "            encrypted_text += encrypt_dict[char]\n",
    "        else:\n",
    "            encrypted_text += char\n",
    "    return encrypted_text"
   ]
  },
  {
   "cell_type": "code",
   "execution_count": 19,
   "id": "41620cfc-9d57-4431-aaf3-bfae9decd9e7",
   "metadata": {},
   "outputs": [
    {
     "data": {
      "text/plain": [
       "'r$dzmg$gl$yvxlnv$z$wzgz$hxrvmgrhg.'"
      ]
     },
     "execution_count": 19,
     "metadata": {},
     "output_type": "execute_result"
    }
   ],
   "source": [
    "text = \"I want to become a Data Scientist.\"\n",
    "encrypt(text)"
   ]
  },
  {
   "cell_type": "markdown",
   "id": "4347d48b-2c75-47d0-b7b1-88ffd44e726e",
   "metadata": {},
   "source": [
    "---"
   ]
  },
  {
   "cell_type": "markdown",
   "id": "3c6adb83-9f49-47e5-acd5-d4c42dcbdf08",
   "metadata": {},
   "source": [
    "Created By -> Debabrata"
   ]
  },
  {
   "cell_type": "code",
   "execution_count": null,
   "id": "1da46cb2-37c5-4e22-996b-15ad01fdcede",
   "metadata": {},
   "outputs": [],
   "source": []
  }
 ],
 "metadata": {
  "kernelspec": {
   "display_name": "Python 3 (ipykernel)",
   "language": "python",
   "name": "python3"
  },
  "language_info": {
   "codemirror_mode": {
    "name": "ipython",
    "version": 3
   },
   "file_extension": ".py",
   "mimetype": "text/x-python",
   "name": "python",
   "nbconvert_exporter": "python",
   "pygments_lexer": "ipython3",
   "version": "3.10.8"
  }
 },
 "nbformat": 4,
 "nbformat_minor": 5
}
