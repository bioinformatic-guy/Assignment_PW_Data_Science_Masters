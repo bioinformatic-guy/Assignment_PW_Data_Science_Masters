{
 "cells": [
  {
   "cell_type": "markdown",
   "id": "e56e60a4-fdd6-43d4-90ab-f223d44740b3",
   "metadata": {},
   "source": [
    "# Assignment (2nd Feb)"
   ]
  },
  {
   "cell_type": "markdown",
   "id": "f655c818-55e0-42e5-bc9a-36b9d7a182dd",
   "metadata": {},
   "source": [
    "## Q1. Explain with an example each when to use a for loop and a while loop."
   ]
  },
  {
   "cell_type": "markdown",
   "id": "db25d7ad-0492-47b8-ae35-21c52fa15fd5",
   "metadata": {},
   "source": [
    "Ans: A \"for loop\" and a \"while loop\" are two types of loop structures used in programming to execute a block of code repeatedly based on certain conditions.\n",
    "\n",
    "Example of using a \"for loop\":\n",
    "Suppose you want to print the numbers from 1 to 10. The code using a \"for loop\" would look like this:"
   ]
  },
  {
   "cell_type": "code",
   "execution_count": 1,
   "id": "fc2b1903-5841-4d24-a2e6-9c99bc46abd1",
   "metadata": {},
   "outputs": [
    {
     "name": "stdout",
     "output_type": "stream",
     "text": [
      "1\n",
      "2\n",
      "3\n",
      "4\n",
      "5\n",
      "6\n",
      "7\n",
      "8\n",
      "9\n",
      "10\n"
     ]
    }
   ],
   "source": [
    "for i in range(1,11):\n",
    "  print(i)"
   ]
  },
  {
   "cell_type": "markdown",
   "id": "6698a1b3-c61b-457f-a2d1-4cf881d3d493",
   "metadata": {},
   "source": [
    "In this example, the \"for loop\" will iterate from 1 to 10 and the value of i will change on each iteration.\n",
    "\n",
    "Example of using a \"while loop\":\n",
    "Suppose you want to print the numbers from 1 to 10 until a specific number is reached, say 5. The code using a \"while loop\" would look like this:"
   ]
  },
  {
   "cell_type": "code",
   "execution_count": 2,
   "id": "99f03fd8-ffb5-4c1b-a67f-53da1c3d0c08",
   "metadata": {},
   "outputs": [
    {
     "name": "stdout",
     "output_type": "stream",
     "text": [
      "1\n",
      "2\n",
      "3\n",
      "4\n",
      "5\n"
     ]
    }
   ],
   "source": [
    "i = 1\n",
    "while i <= 10:\n",
    "  print(i)\n",
    "  if i == 5:\n",
    "    break\n",
    "  i += 1"
   ]
  },
  {
   "cell_type": "markdown",
   "id": "c7218a17-30be-4324-80a4-d43ab9d817e4",
   "metadata": {},
   "source": [
    "In this example, the \"while loop\" will keep running until the condition i <= 10 is true, and the break statement will exit the loop once the value of i becomes 5."
   ]
  },
  {
   "cell_type": "markdown",
   "id": "5f15067c-70c6-4fd3-af14-2b6ab37eaf78",
   "metadata": {},
   "source": [
    "## Q2. Write a python program to print the sum and product of the first 10 natural numbers using for and while loop."
   ]
  },
  {
   "cell_type": "code",
   "execution_count": 3,
   "id": "024ca3e5-1ccd-42e2-924b-adaf0f42eb28",
   "metadata": {},
   "outputs": [
    {
     "name": "stdout",
     "output_type": "stream",
     "text": [
      "Sum of first 10 natural numbers (using for loop): 55\n",
      "Product of first 10 natural numbers (using for loop): 3628800\n",
      "Sum of first 10 natural numbers (using while loop): 55\n",
      "Product of first 10 natural numbers (using while loop): 3628800\n"
     ]
    }
   ],
   "source": [
    "# Using for loop\n",
    "sum = 0\n",
    "product = 1\n",
    "for i in range(1, 11):\n",
    "    sum += i\n",
    "    product *= i\n",
    "\n",
    "print(\"Sum of first 10 natural numbers (using for loop):\", sum)\n",
    "print(\"Product of first 10 natural numbers (using for loop):\", product)\n",
    "\n",
    "# Using while loop\n",
    "i = 1\n",
    "sum = 0\n",
    "product = 1\n",
    "while i <= 10:\n",
    "    sum += i\n",
    "    product *= i\n",
    "    i += 1\n",
    "\n",
    "print(\"Sum of first 10 natural numbers (using while loop):\", sum)\n",
    "print(\"Product of first 10 natural numbers (using while loop):\", product)"
   ]
  },
  {
   "cell_type": "markdown",
   "id": "21a0e080-5326-4773-9adc-c999c1ce7539",
   "metadata": {},
   "source": [
    "## Q3. Create a python program to compute the electricity bill for a household."
   ]
  },
  {
   "cell_type": "markdown",
   "id": "b05e060d-f1eb-434f-977a-5675372a79e1",
   "metadata": {},
   "source": [
    "The per-unit charges in rupees are as follows: For the first 100 units, the user will be charged Rs. 4.5 per\n",
    "unit, for the next 100 units, the user will be charged Rs. 6 per unit, and for the next 100 units, the user will\n",
    "be charged Rs. 10 per unit, After 300 units and above the user will be charged Rs. 20 per unit."
   ]
  },
  {
   "cell_type": "code",
   "execution_count": 5,
   "id": "0b391cd1-d88e-45a1-9d46-27582b018a82",
   "metadata": {},
   "outputs": [
    {
     "name": "stdin",
     "output_type": "stream",
     "text": [
      "Enter the number of units consumed:  310\n"
     ]
    },
    {
     "name": "stdout",
     "output_type": "stream",
     "text": [
      "The total electricity bill is: Rs. 2250.0\n"
     ]
    }
   ],
   "source": [
    "# Taking input of units consumed\n",
    "units = int(input(\"Enter the number of units consumed: \"))\n",
    "\n",
    "if units <= 100:\n",
    "    bill = units * 4.5\n",
    "elif units <= 200:\n",
    "    bill = 100 * 4.5 + (units - 100) * 6\n",
    "elif units <= 300:\n",
    "    bill = 100 * 4.5 + 100 * 6 + (units - 200) * 10\n",
    "else:\n",
    "    bill = 100 * 4.5 + 100 * 6 + 100 * 10 + (units - 300) * 20\n",
    "\n",
    "print(\"The total electricity bill is: Rs.\", bill)"
   ]
  },
  {
   "cell_type": "markdown",
   "id": "7cefe2d0-1878-4ac0-a7a1-a1df357e9843",
   "metadata": {},
   "source": [
    "## Q4. Create a list of numbers from 1 to 100. Use for loop and while loop to calculate the cube of each number and if the cube of that number is divisible by 4 or 5 then append that number in a list and print that list."
   ]
  },
  {
   "cell_type": "code",
   "execution_count": 9,
   "id": "088bd611-c73a-4160-bb83-dbf2431dbcde",
   "metadata": {},
   "outputs": [
    {
     "name": "stdout",
     "output_type": "stream",
     "text": [
      "The numbers whose cube is divisible by 4 or 5 (using for loop): [2, 4, 5, 6, 8, 10, 12, 14, 15, 16, 18, 20, 22, 24, 25, 26, 28, 30, 32, 34, 35, 36, 38, 40, 42, 44, 45, 46, 48, 50, 52, 54, 55, 56, 58, 60, 62, 64, 65, 66, 68, 70, 72, 74, 75, 76, 78, 80, 82, 84, 85, 86, 88, 90, 92, 94, 95, 96, 98, 100]\n",
      "\n",
      "The numbers whose cube is divisible by 4 or 5 (using while loop): [2, 4, 5, 6, 8, 10, 12, 14, 15, 16, 18, 20, 22, 24, 25, 26, 28, 30, 32, 34, 35, 36, 38, 40, 42, 44, 45, 46, 48, 50, 52, 54, 55, 56, 58, 60, 62, 64, 65, 66, 68, 70, 72, 74, 75, 76, 78, 80, 82, 84, 85, 86, 88, 90, 92, 94, 95, 96, 98, 100]\n"
     ]
    }
   ],
   "source": [
    "# Using for loop\n",
    "numbers = []\n",
    "cubes = []\n",
    "for i in range(1, 101):\n",
    "    numbers.append(i)\n",
    "    cube = i**3\n",
    "    if cube % 4 == 0 or cube % 5 == 0:\n",
    "        cubes.append(i)\n",
    "\n",
    "print(\"The numbers whose cube is divisible by 4 or 5 (using for loop):\", cubes)\n",
    "\n",
    "# Using while loop\n",
    "numbers = []\n",
    "cubes = []\n",
    "i = 1\n",
    "while i <= 100:\n",
    "    numbers.append(i)\n",
    "    cube = i**3\n",
    "    if cube % 4 == 0 or cube % 5 == 0:\n",
    "        cubes.append(i)\n",
    "    i += 1\n",
    "\n",
    "print(\"\\nThe numbers whose cube is divisible by 4 or 5 (using while loop):\", cubes)\n"
   ]
  },
  {
   "cell_type": "markdown",
   "id": "caa151c5-7e59-4c6b-a2f7-29ed00155219",
   "metadata": {},
   "source": [
    "## Q5. Write a program to filter count vowels in the below-given string.\n",
    "string = \"I want to become a data scientist\""
   ]
  },
  {
   "cell_type": "code",
   "execution_count": 13,
   "id": "b10f9d68-15ee-499c-a2f0-f6c09264e394",
   "metadata": {},
   "outputs": [
    {
     "name": "stdout",
     "output_type": "stream",
     "text": [
      "Number of vowels in the string: 12\n"
     ]
    }
   ],
   "source": [
    "string = \"I want to become a data scientist\"\n",
    "count=0\n",
    "for i in string:\n",
    "    if i.lower() in ['a','e','i','o','u']:\n",
    "        count+=1\n",
    "print(f'Number of vowels in the string: {count}')\n",
    "        "
   ]
  },
  {
   "cell_type": "code",
   "execution_count": 12,
   "id": "d9d01626-5e59-48d9-8265-d33bb4ec9b33",
   "metadata": {},
   "outputs": [
    {
     "name": "stdout",
     "output_type": "stream",
     "text": [
      "Number of vowels in the string: 12\n"
     ]
    }
   ],
   "source": [
    "string = \"I want to become a data scientist\"\n",
    "vowels = \"aeiouAEIOU\"\n",
    "count = 0\n",
    "for char in string:\n",
    "    if char in vowels:\n",
    "        count += 1\n",
    "\n",
    "print(\"Number of vowels in the string:\", count)\n"
   ]
  },
  {
   "cell_type": "code",
   "execution_count": null,
   "id": "31e56984-f148-468b-b2c4-1438014ec005",
   "metadata": {},
   "outputs": [],
   "source": []
  }
 ],
 "metadata": {
  "kernelspec": {
   "display_name": "Python 3 (ipykernel)",
   "language": "python",
   "name": "python3"
  },
  "language_info": {
   "codemirror_mode": {
    "name": "ipython",
    "version": 3
   },
   "file_extension": ".py",
   "mimetype": "text/x-python",
   "name": "python",
   "nbconvert_exporter": "python",
   "pygments_lexer": "ipython3",
   "version": "3.10.8"
  }
 },
 "nbformat": 4,
 "nbformat_minor": 5
}
