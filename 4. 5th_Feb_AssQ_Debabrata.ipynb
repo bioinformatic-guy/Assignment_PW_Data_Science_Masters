{
 "cells": [
  {
   "cell_type": "markdown",
   "id": "c5e2b575-9f2f-4a32-86b3-317f500b6959",
   "metadata": {},
   "source": [
    "# Assignment 5th Feb"
   ]
  },
  {
   "cell_type": "markdown",
   "id": "ef5a2c38-588f-46a2-94d6-64a93d4f6ec7",
   "metadata": {},
   "source": [
    "## Q1. Explain Class and Object with respect to Object-Oriented Programming. Give a suitable example."
   ]
  },
  {
   "cell_type": "markdown",
   "id": "289fcbdb-90ae-4d26-90a2-777e469e7550",
   "metadata": {},
   "source": [
    "A `Class` is a blueprint for creating objects (a particular data structure), providing initial values for state (member variables or attributes), and implementations of behavior (member functions or methods). Classes define a new data type and acts as a template for creating objects.\n",
    "\n",
    "An `Object` is an instance of a Class and represents a real-world entity. An object is an individual unit of a Class and has its own state and behavior. Each object created from a Class has its own set of attributes and can perform the operations defined in the Class.\n",
    "\n",
    "For example, consider a `Class Person.` The `Person Class` has attributes such as `name, age, and address,` and methods such as `get_name(), get_age(), and get_address().` An object can be created from the Person Class, such as person1, person2, etc., each with its own set of values for the attributes."
   ]
  },
  {
   "cell_type": "code",
   "execution_count": 1,
   "id": "dbfce410-0746-4cbb-85d4-94e590c893ed",
   "metadata": {},
   "outputs": [],
   "source": [
    "class Person:\n",
    "    def __init__(self, name, age, address):\n",
    "        self.name = name\n",
    "        self.age = age\n",
    "        self.address = address\n",
    "    \n",
    "    def get_name(self):\n",
    "        return self.name\n",
    "    \n",
    "    def get_age(self):\n",
    "        return self.age\n",
    "    \n",
    "    def get_address(self):\n",
    "        return self.address\n"
   ]
  },
  {
   "cell_type": "code",
   "execution_count": 2,
   "id": "7aaa5a74-6837-4a3f-9164-edd3fb536def",
   "metadata": {},
   "outputs": [
    {
     "name": "stdout",
     "output_type": "stream",
     "text": [
      "John\n",
      "30\n",
      "1234 Main St\n"
     ]
    }
   ],
   "source": [
    "person1 = Person(\"John\", 30, \"1234 Main St\")\n",
    "print(person1.get_name()) \n",
    "print(person1.get_age()) \n",
    "print(person1.get_address())"
   ]
  },
  {
   "cell_type": "code",
   "execution_count": 3,
   "id": "1f80020d-fb4a-4b42-9767-35ddf12e6d75",
   "metadata": {},
   "outputs": [
    {
     "name": "stdout",
     "output_type": "stream",
     "text": [
      "Jane\n",
      "25\n",
      "5678 Park Ave\n"
     ]
    }
   ],
   "source": [
    "person2 = Person(\"Jane\", 25, \"5678 Park Ave\")\n",
    "print(person2.get_name()) \n",
    "print(person2.get_age()) \n",
    "print(person2.get_address()) "
   ]
  },
  {
   "cell_type": "markdown",
   "id": "8134ba9d-49ee-4e30-83ae-9940d9e53496",
   "metadata": {},
   "source": [
    "## Q2. Name the four pillars of OOPs."
   ]
  },
  {
   "cell_type": "markdown",
   "id": "f47a7335-6bc6-4a65-9cb2-76e834432b7c",
   "metadata": {},
   "source": [
    "The four pillars of Object-Oriented Programming (OOP) are:\n",
    "\n",
    "1. Encapsulation: Hiding the internal details of an object from external code, and exposing only the necessary interface for accessing the data.\n",
    "\n",
    "2. Abstraction: Providing a simplified interface to the object by exposing only the relevant details and hiding the unnecessary ones.\n",
    "\n",
    "3. Inheritance: Reusing existing code and creating new code by inheriting properties and methods from a parent class.\n",
    "\n",
    "4. Polymorphism: Allowing objects to take many different forms by defining the same method or operator with different implementations."
   ]
  },
  {
   "cell_type": "markdown",
   "id": "46f4a04b-5a78-41cf-ace8-1dcc3b46a151",
   "metadata": {},
   "source": [
    "## Q3. Explain why the `__init__()` function is used. Give a suitable example."
   ]
  },
  {
   "cell_type": "markdown",
   "id": "2043356d-6421-428c-b4ab-760d3d9fb448",
   "metadata": {},
   "source": [
    "The `__init__` function is used in Python to initialize an object when it is created. It is a special method that is automatically called when an object is created from a class. The `__init__` method is used to define the attributes of an object and to set the initial values for those attributes."
   ]
  },
  {
   "cell_type": "code",
   "execution_count": 1,
   "id": "8f6a5e62-41b0-4c01-a835-08a7569a2cc2",
   "metadata": {},
   "outputs": [
    {
     "name": "stdout",
     "output_type": "stream",
     "text": [
      "Labrador\n",
      "Buddy\n",
      "5\n"
     ]
    }
   ],
   "source": [
    "class Dog:\n",
    "    def __init__(self, breed, name, age):\n",
    "        self.breed = breed\n",
    "        self.name = name\n",
    "        self.age = age\n",
    "\n",
    "dog = Dog(\"Labrador\", \"Buddy\", 5)\n",
    "print(dog.breed)\n",
    "print(dog.name)\n",
    "print(dog.age)\n"
   ]
  },
  {
   "cell_type": "markdown",
   "id": "55186da6-0d15-499a-8c0d-36eb41939c41",
   "metadata": {},
   "source": [
    "In this example, the `__init__` function takes three arguments `breed, name, and age,` and initializes the attributes of the object when it is created. When the object is created, the values of the arguments are passed to the `__init__` function, which sets the values of the breed, name, and age attributes. The values can then be accessed using dot notation on the object, as seen in the print statements."
   ]
  },
  {
   "cell_type": "markdown",
   "id": "5860a673-7fef-4451-bdf0-42247fd6a556",
   "metadata": {},
   "source": [
    "## Q4. Why self is used in OOPs?"
   ]
  },
  {
   "cell_type": "markdown",
   "id": "68c69444-caf6-4b46-ad12-0d5ab16642e6",
   "metadata": {},
   "source": [
    "In Object-Oriented Programming (OOPs), the self keyword is used to refer to the instance of an object. It is used to access the instance variables and methods of an object within the class. The self keyword must be used as the first parameter in any instance method definition. This allows the method to access the instance variables and other methods of the class. By using self, we can distinguish between the instance variables and class variables, as instance variables belong to the instance and class variables belong to the class.\n",
    "\n",
    "Example:"
   ]
  },
  {
   "cell_type": "code",
   "execution_count": 2,
   "id": "8c8607b6-e2e9-4c0e-9dac-13d9e86deaa3",
   "metadata": {},
   "outputs": [
    {
     "name": "stdout",
     "output_type": "stream",
     "text": [
      "Name:  John\n",
      "Roll Number:  10\n"
     ]
    }
   ],
   "source": [
    "class Student:\n",
    "    def __init__(self, name, roll_no):\n",
    "        self.name = name\n",
    "        self.roll_no = roll_no\n",
    "\n",
    "    def display_student_details(self):\n",
    "        print(\"Name: \", self.name)\n",
    "        print(\"Roll Number: \", self.roll_no)\n",
    "\n",
    "s = Student(\"John\", 10)\n",
    "s.display_student_details()\n"
   ]
  },
  {
   "cell_type": "markdown",
   "id": "23260a76-64f3-4e5d-a93e-5bcebee55306",
   "metadata": {},
   "source": [
    "In this example, `self` is used to access the instance variables `name and roll_no` and the instance method `display_student_details` within the Student class."
   ]
  },
  {
   "cell_type": "markdown",
   "id": "6a269f96-141a-45db-b1c9-fe1814695231",
   "metadata": {},
   "source": [
    "## Q5. What is inheritance? Give an example for each type of inheritance."
   ]
  },
  {
   "cell_type": "markdown",
   "id": "3210250d-67cd-4dd8-89d9-6bf239dadb39",
   "metadata": {},
   "source": [
    "Inheritance is a mechanism in object-oriented programming (OOP) where a class inherits properties and methods from a parent or superclass. It allows new classes to be created from existing classes, making code reuse and maintenance easier. There are several types of inheritance:\n",
    "\n",
    "- Single inheritance: A derived class inherits from a single base class. Example: class Bicycle is derived from class Vehicle.\n",
    "\n",
    "- Multiple inheritance: A derived class inherits from more than one base class. Example: class Car is derived from class Engine and class Wheels.\n",
    "\n",
    "- Multi-level inheritance: A derived class inherits from a base class which in turn inherits from another base class. Example: class RaceBicycle is derived from class Bicycle which is derived from class Vehicle.\n",
    "\n",
    "- Hierarchical inheritance: Multiple derived classes inherit from a single base class. Example: class MountainBicycle and class RoadBicycle both inherit from class Bicycle.\n",
    "\n",
    "- Hybrid inheritance: A combination of multiple inheritance types. Example: class SportsCar is derived from class Engine, class Wheels and class Car."
   ]
  },
  {
   "cell_type": "markdown",
   "id": "601756d3-7ea0-4126-b285-a4847570f56c",
   "metadata": {},
   "source": [
    "---"
   ]
  },
  {
   "cell_type": "markdown",
   "id": "6c4e04b1-7b21-4199-b8bf-a7e0e56a6c12",
   "metadata": {},
   "source": [
    "Created By -> Debabrata "
   ]
  },
  {
   "cell_type": "code",
   "execution_count": null,
   "id": "d715bf9a-3e63-4329-a64a-767f2be35d5c",
   "metadata": {},
   "outputs": [],
   "source": []
  }
 ],
 "metadata": {
  "kernelspec": {
   "display_name": "Python 3 (ipykernel)",
   "language": "python",
   "name": "python3"
  },
  "language_info": {
   "codemirror_mode": {
    "name": "ipython",
    "version": 3
   },
   "file_extension": ".py",
   "mimetype": "text/x-python",
   "name": "python",
   "nbconvert_exporter": "python",
   "pygments_lexer": "ipython3",
   "version": "3.10.8"
  }
 },
 "nbformat": 4,
 "nbformat_minor": 5
}
