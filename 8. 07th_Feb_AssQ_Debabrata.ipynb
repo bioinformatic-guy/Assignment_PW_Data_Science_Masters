{
 "cells": [
  {
   "cell_type": "markdown",
   "id": "5ba2d25f-3106-44b7-a438-53536cf0bd15",
   "metadata": {
    "tags": []
   },
   "source": [
    "# Assignment 7th Feb"
   ]
  },
  {
   "cell_type": "markdown",
   "id": "098d3fe9-de76-4b15-8a55-6c2e48e3f99f",
   "metadata": {},
   "source": [
    "## Q1. You are writing code for a company. The requirement of the company is that you create a python function that will check whether the password entered by the user is correct or not. The function should take the password as input and return the string “Valid Password” if the entered password follows the below-given password guidelines else it should return “Invalid Password”."
   ]
  },
  {
   "cell_type": "markdown",
   "id": "d5a98486-4c4a-458a-8b35-3e302cb5dc61",
   "metadata": {},
   "source": [
    "Note: \n",
    "1. The Password should contain at least two uppercase letters and at least two lowercase letters.\n",
    "2. The Password should contain at least a number and three special characters.\n",
    "3. The length of the password should be 10 characters long."
   ]
  },
  {
   "cell_type": "code",
   "execution_count": 19,
   "id": "0b0a2951-1ced-4a1f-ba75-38205979ce3a",
   "metadata": {},
   "outputs": [
    {
     "name": "stdin",
     "output_type": "stream",
     "text": [
      "Enter the password:  AWkhtw#$@6\n"
     ]
    },
    {
     "name": "stdout",
     "output_type": "stream",
     "text": [
      "Valid Password\n"
     ]
    }
   ],
   "source": [
    "import re\n",
    "def check_password(password):\n",
    "    # Check Length of Password as 10\n",
    "    if len(password) < 10:\n",
    "        return \"Invalid Password\"\n",
    "    # Checking at least 2 lower case\n",
    "    if re.search(\"[a-z]{2,}\", password) is None:\n",
    "        return \"Invalid Password\"\n",
    "    # Checking at least 2 upper case\n",
    "    if re.search(\"[A-Z]{2,}\", password) is None:\n",
    "        return \"Invalid Password\"\n",
    "    # Checking at least 1 number\n",
    "    if re.search(\"[0-9]\", password) is None:\n",
    "        return \"Invalid Password\"\n",
    "    # Checking at least three special characters\n",
    "    if re.search(\"[!@#$%^&*]{3,}\", password) is None:\n",
    "        return \"Invalid Password\"\n",
    "    return \"Valid Password\"\n",
    "\n",
    "password = input(\"Enter the password: \")\n",
    "print(check_password(password))"
   ]
  },
  {
   "cell_type": "code",
   "execution_count": 18,
   "id": "d080aef3-e839-44e8-b25f-a625d4a31e24",
   "metadata": {},
   "outputs": [
    {
     "data": {
      "text/plain": [
       "10"
      ]
     },
     "execution_count": 18,
     "metadata": {},
     "output_type": "execute_result"
    }
   ],
   "source": [
    "len('AWkhtw#$@6')"
   ]
  },
  {
   "cell_type": "markdown",
   "id": "a96a792a-3382-46c9-b3f3-06371b764250",
   "metadata": {},
   "source": [
    "## Q2. Solve the below-given questions using at least one of the following:\n",
    "\n",
    "1. Lambda function\n",
    "2. Filter function\n",
    "3. Map function\n",
    "4. List Comprehension\n",
    "\n",
    "- Check if the string starts with a particular letter."
   ]
  },
  {
   "cell_type": "code",
   "execution_count": 7,
   "id": "97fcf460-75ae-4b97-a30b-308bece76b9e",
   "metadata": {},
   "outputs": [
    {
     "name": "stdout",
     "output_type": "stream",
     "text": [
      "['Yes', 'Yep', 'Yellow']\n"
     ]
    }
   ],
   "source": [
    "strings = ['Yes', 'No', 'Maybe', 'Yep', 'Nope','PWSkills','Yellow']\n",
    "letter = 'Y'\n",
    "result = list(filter(lambda x: x.startswith(letter), strings))\n",
    "\n",
    "print(result)\n"
   ]
  },
  {
   "cell_type": "markdown",
   "id": "50773c75-eca3-41d2-92e6-2d8b552eceee",
   "metadata": {},
   "source": [
    "- Check if the string is numeric."
   ]
  },
  {
   "cell_type": "code",
   "execution_count": 14,
   "id": "991db540-f5f0-4154-a0d6-249fd5a7a497",
   "metadata": {},
   "outputs": [
    {
     "name": "stdout",
     "output_type": "stream",
     "text": [
      "The string is numeric.\n"
     ]
    }
   ],
   "source": [
    "string = \"123456\"\n",
    "result = list(map(lambda x: x.isdigit(), string))\n",
    "\n",
    "if all(result):\n",
    "    print(\"The string is numeric.\")\n",
    "else:\n",
    "    print(\"The string is not numeric.\")"
   ]
  },
  {
   "cell_type": "markdown",
   "id": "4f99b843-d9fb-406d-b94f-dcbda457d6c8",
   "metadata": {},
   "source": [
    "- Sort a list of tuples having fruit names and their quantity. [(\"mango\",99),(\"orange\",80), (\"grapes\", 1000)]"
   ]
  },
  {
   "cell_type": "code",
   "execution_count": 16,
   "id": "42ffb486-ad68-4a5e-9241-1e1ba3d0ba2c",
   "metadata": {},
   "outputs": [
    {
     "name": "stdout",
     "output_type": "stream",
     "text": [
      "[('grapes', 1000), ('mango', 99), ('orange', 80)]\n"
     ]
    }
   ],
   "source": [
    "fruits = [(\"mango\", 99), (\"orange\", 80), (\"grapes\", 1000)]\n",
    "\n",
    "sorted_fruits = sorted(fruits, key=lambda x: x[1], reverse=True)\n",
    "\n",
    "print(sorted_fruits)"
   ]
  },
  {
   "cell_type": "markdown",
   "id": "8a3e62dc-dafb-46d7-83e5-e20706406099",
   "metadata": {},
   "source": [
    "- Find the squares of numbers from 1 to 10"
   ]
  },
  {
   "cell_type": "code",
   "execution_count": 23,
   "id": "a8e1c9ce-b899-4527-bbf0-c61e93c44835",
   "metadata": {},
   "outputs": [
    {
     "name": "stdout",
     "output_type": "stream",
     "text": [
      "Squared numbers form 1 to 10 [1, 4, 9, 16, 25, 36, 49, 64, 81, 100]\n"
     ]
    }
   ],
   "source": [
    "sq= [ x**2 for x in range(1,11) ]\n",
    "print('Squared numbers form 1 to 10',sq)"
   ]
  },
  {
   "cell_type": "markdown",
   "id": "9df8017a-af67-49e8-bb3c-0820a0b02eca",
   "metadata": {},
   "source": [
    "- Find the cube root of numbers from 1 to 10."
   ]
  },
  {
   "cell_type": "code",
   "execution_count": 26,
   "id": "4be35ad1-eef1-4e39-a0d4-e5bfd1918fcc",
   "metadata": {},
   "outputs": [
    {
     "name": "stdout",
     "output_type": "stream",
     "text": [
      "Cube Root from 1 to 10 [1.0, 1.26, 1.44, 1.59, 1.71, 1.82, 1.91, 2.0, 2.08, 2.15]\n"
     ]
    }
   ],
   "source": [
    "cube = [ round(x**(1/3),2) for x in range(1,11) ]\n",
    "print('Cube Root from 1 to 10',cube)"
   ]
  },
  {
   "cell_type": "markdown",
   "id": "1f102958-173e-4a84-b78c-f6368edaf98f",
   "metadata": {},
   "source": [
    "- Check if a given number is even."
   ]
  },
  {
   "cell_type": "code",
   "execution_count": 30,
   "id": "a1abf726-a692-47cc-8ae0-71604c4c2c3f",
   "metadata": {},
   "outputs": [
    {
     "data": {
      "text/plain": [
       "True"
      ]
     },
     "execution_count": 30,
     "metadata": {},
     "output_type": "execute_result"
    }
   ],
   "source": [
    "is_even = lambda x: x%2==0 \n",
    "\n",
    "is_even(14)"
   ]
  },
  {
   "cell_type": "markdown",
   "id": "99fd6481-eee6-4a40-a3b7-95b7525165d0",
   "metadata": {},
   "source": [
    "- Filter odd numbers from the given list.\n",
    "- [1,2,3,4,5,6,7,8,9,10]"
   ]
  },
  {
   "cell_type": "code",
   "execution_count": 31,
   "id": "45ae9639-697c-4153-928b-842a07b03c7e",
   "metadata": {},
   "outputs": [
    {
     "data": {
      "text/plain": [
       "[1, 3, 5, 7, 9]"
      ]
     },
     "execution_count": 31,
     "metadata": {},
     "output_type": "execute_result"
    }
   ],
   "source": [
    "lst=[1,2,3,4,5,6,7,8,9,10]\n",
    "\n",
    "list(filter(lambda x: x%2 !=0,lst))"
   ]
  },
  {
   "cell_type": "markdown",
   "id": "053fffb8-cb35-4796-aecb-5984a6dcb1c7",
   "metadata": {},
   "source": [
    "- Sort a list of integers into positive and negative integers lists.\n",
    "- [1,2,3,4,5,6,-1,-2,-3,-4,-5,0]"
   ]
  },
  {
   "cell_type": "code",
   "execution_count": 32,
   "id": "f449de21-f5c0-490b-832e-b1fa5b1892f9",
   "metadata": {},
   "outputs": [
    {
     "data": {
      "text/plain": [
       "[-5, -4, -3, -2, -1, 0, 1, 2, 3, 4, 5, 6]"
      ]
     },
     "execution_count": 32,
     "metadata": {},
     "output_type": "execute_result"
    }
   ],
   "source": [
    "lst=[1,2,3,4,5,6,-1,-2,-3,-4,-5,0]\n",
    "\n",
    "sorted(lst)"
   ]
  },
  {
   "cell_type": "code",
   "execution_count": 35,
   "id": "027e32d0-386e-4378-97a0-a3a833af707f",
   "metadata": {},
   "outputs": [
    {
     "name": "stdout",
     "output_type": "stream",
     "text": [
      "Positive integers: [0, 1, 2, 3, 4, 5, 6]\n",
      "Negative integers: [-5, -4, -3, -2, -1]\n"
     ]
    }
   ],
   "source": [
    "my_list = [1,2,3,4,5,6,-1,-2,-3,-4,-5,0]\n",
    "\n",
    "positive_list = [x for x in my_list if x >= 0]\n",
    "negative_list = [x for x in my_list if x < 0]\n",
    "\n",
    "print(\"Positive integers:\", sorted(positive_list))\n",
    "print(\"Negative integers:\", sorted(negative_list))\n"
   ]
  },
  {
   "cell_type": "markdown",
   "id": "06a1506a-c321-4208-abd2-0755b5085242",
   "metadata": {},
   "source": [
    "---"
   ]
  },
  {
   "cell_type": "markdown",
   "id": "d5a4041f-f570-4b43-a425-d59ae650d581",
   "metadata": {},
   "source": [
    "Created by -> Debabrata"
   ]
  },
  {
   "cell_type": "code",
   "execution_count": null,
   "id": "2884b18b-7ef6-4cc3-a4f8-5c3b215aceee",
   "metadata": {},
   "outputs": [],
   "source": []
  }
 ],
 "metadata": {
  "kernelspec": {
   "display_name": "Python 3 (ipykernel)",
   "language": "python",
   "name": "python3"
  },
  "language_info": {
   "codemirror_mode": {
    "name": "ipython",
    "version": 3
   },
   "file_extension": ".py",
   "mimetype": "text/x-python",
   "name": "python",
   "nbconvert_exporter": "python",
   "pygments_lexer": "ipython3",
   "version": "3.10.8"
  }
 },
 "nbformat": 4,
 "nbformat_minor": 5
}
