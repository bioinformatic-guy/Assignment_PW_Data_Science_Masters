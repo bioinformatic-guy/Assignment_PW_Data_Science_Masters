{
 "cells": [
  {
   "cell_type": "markdown",
   "id": "12da6fba-f15b-4d4f-92cd-54b306ef6fef",
   "metadata": {},
   "source": [
    "# Assignment 4th Feb"
   ]
  },
  {
   "cell_type": "markdown",
   "id": "bd9a6db5-e77e-4124-9952-f9dc9ec2630a",
   "metadata": {},
   "source": [
    "## Q1. Create a python program to sort the given list of tuples based on integer value using a lambda function.\n",
    "`[('Sachin Tendulkar', 34357), ('Ricky Ponting', 27483), ('Jack Kallis', 25534), ('Virat Kohli', 24936)]`"
   ]
  },
  {
   "cell_type": "code",
   "execution_count": 1,
   "id": "7c27d5b1-a510-4c6f-9491-8ce87752aa21",
   "metadata": {},
   "outputs": [
    {
     "name": "stdout",
     "output_type": "stream",
     "text": [
      "[('Virat Kohli', 24936), ('Jack Kallis', 25534), ('Ricky Ponting', 27483), ('Sachin Tendulkar', 34357)]\n"
     ]
    }
   ],
   "source": [
    "list_of_tuples = [('Sachin Tendulkar', 34357), ('Ricky Ponting', 27483), ('Jack Kallis', 25534), ('Virat Kohli', 24936)]\n",
    "sorted_list = sorted(list_of_tuples, key=lambda x: x[1])\n",
    "print(sorted_list)"
   ]
  },
  {
   "cell_type": "markdown",
   "id": "b5b68ede-1d8d-41e7-959b-595867e75070",
   "metadata": {},
   "source": [
    "## Q2. Write a Python Program to find the squares of all the numbers in the given list of integers using lambda and map functions.\n",
    "`[1, 2, 3, 4, 5, 6, 7, 8, 9, 10]`"
   ]
  },
  {
   "cell_type": "code",
   "execution_count": 2,
   "id": "57193100-22c9-4d00-8412-67f23bc6ab28",
   "metadata": {},
   "outputs": [
    {
     "name": "stdout",
     "output_type": "stream",
     "text": [
      "Squared List: [1, 4, 9, 16, 25, 36, 49, 64, 81, 100]\n"
     ]
    }
   ],
   "source": [
    "num=[1, 2, 3, 4, 5, 6, 7, 8, 9, 10]\n",
    "\n",
    "sq= list(map(lambda x:x*x,num))\n",
    "\n",
    "print('Squared List:', sq)"
   ]
  },
  {
   "cell_type": "markdown",
   "id": "2d3191dd-ea28-41fa-a1ab-dbb512d9a1ad",
   "metadata": {},
   "source": [
    "## Q3. Write a python program to convert the given list of integers into a tuple of strings. Use map and lambda functions\n",
    "`Given String: [1, 2, 3, 4, 5, 6, 7, 8, 9, 10]`\n",
    "`Expected output: ('1', '2', '3', '4', '5', '6', '7', '8', '9', '10')`"
   ]
  },
  {
   "cell_type": "code",
   "execution_count": 5,
   "id": "00e481af-a01e-4914-b5b0-51ac25b27092",
   "metadata": {},
   "outputs": [
    {
     "name": "stdout",
     "output_type": "stream",
     "text": [
      "Expected Output: ('1', '2', '3', '4', '5', '6', '7', '8', '9', '10')\n"
     ]
    }
   ],
   "source": [
    "st=[1, 2, 3, 4, 5, 6, 7, 8, 9, 10]\n",
    "\n",
    "tup=tuple(map(lambda x: str(x),st))\n",
    "\n",
    "print(\"Expected Output:\",tup)"
   ]
  },
  {
   "cell_type": "markdown",
   "id": "3b395563-09aa-4116-b5f1-ac603029b088",
   "metadata": {},
   "source": [
    "## Q4. Write a python program using reduce function to compute the product of a list containing numbers from 1 to 25."
   ]
  },
  {
   "cell_type": "markdown",
   "id": "1b905dc9-e119-485d-82e3-d39351d56a17",
   "metadata": {},
   "source": [
    "from functools import reduce\n",
    "\n",
    "numbers = [x for x in range(1, 26)]\n",
    "product = reduce(lambda x, y: x*y, numbers)\n",
    "print(product)\n"
   ]
  },
  {
   "cell_type": "code",
   "execution_count": 7,
   "id": "ff7dc178-0f6b-403d-ba16-fe5263a343e3",
   "metadata": {
    "collapsed": true,
    "jupyter": {
     "outputs_hidden": true
    },
    "tags": []
   },
   "outputs": [
    {
     "data": {
      "text/plain": [
       "[1,\n",
       " 2,\n",
       " 3,\n",
       " 4,\n",
       " 5,\n",
       " 6,\n",
       " 7,\n",
       " 8,\n",
       " 9,\n",
       " 10,\n",
       " 11,\n",
       " 12,\n",
       " 13,\n",
       " 14,\n",
       " 15,\n",
       " 16,\n",
       " 17,\n",
       " 18,\n",
       " 19,\n",
       " 20,\n",
       " 21,\n",
       " 22,\n",
       " 23,\n",
       " 24,\n",
       " 25]"
      ]
     },
     "execution_count": 7,
     "metadata": {},
     "output_type": "execute_result"
    }
   ],
   "source": [
    "numbers"
   ]
  },
  {
   "cell_type": "markdown",
   "id": "b1446e24-6da5-41c1-b5f0-8191eb2c57df",
   "metadata": {},
   "source": [
    "## Q5. Write a python program to filter the numbers in a given list that are divisible by 2 and 3 using the filter function.\n",
    "`[2, 3, 6, 9, 27, 60, 90, 120, 55, 46]`"
   ]
  },
  {
   "cell_type": "code",
   "execution_count": 1,
   "id": "74c3e156-5570-4995-9488-c6f1e8cc21f9",
   "metadata": {},
   "outputs": [
    {
     "name": "stdout",
     "output_type": "stream",
     "text": [
      "[6, 60, 90, 120]\n"
     ]
    }
   ],
   "source": [
    "num = [2, 3, 6, 9, 27, 60, 90, 120, 55, 46]\n",
    "\n",
    "div_2_3=list(filter(lambda x: x % 2 ==0 and x%3==0, num))\n",
    "\n",
    "print(div_2_3)"
   ]
  },
  {
   "cell_type": "markdown",
   "id": "2345769c-1ec4-4d2c-95f2-692142915e04",
   "metadata": {},
   "source": [
    "## Q6. Write a python program to find palindromes in the given list of strings using lambda and filter function.\n",
    "`['python', 'php', 'aba', 'radar', 'level']`"
   ]
  },
  {
   "cell_type": "code",
   "execution_count": 3,
   "id": "831fc31d-4bac-49a1-803d-b42f72e22aa2",
   "metadata": {},
   "outputs": [
    {
     "name": "stdout",
     "output_type": "stream",
     "text": [
      "['php', 'aba', 'radar', 'level']\n"
     ]
    }
   ],
   "source": [
    "strings = ['python', 'php', 'aba', 'radar', 'level']\n",
    "result = list(filter(lambda x: x == x[::-1], strings))\n",
    "print(result)\n"
   ]
  },
  {
   "cell_type": "markdown",
   "id": "47241c9f-6de4-46fd-bb61-6ba79ac191ca",
   "metadata": {},
   "source": [
    "---"
   ]
  },
  {
   "cell_type": "markdown",
   "id": "31127f29-f799-4761-b282-fa15576f5649",
   "metadata": {},
   "source": [
    "Created By -> Debabrata Samanta"
   ]
  },
  {
   "cell_type": "code",
   "execution_count": null,
   "id": "56138997-4e0a-4a3a-aead-b177bdd30105",
   "metadata": {},
   "outputs": [],
   "source": []
  }
 ],
 "metadata": {
  "kernelspec": {
   "display_name": "Python 3 (ipykernel)",
   "language": "python",
   "name": "python3"
  },
  "language_info": {
   "codemirror_mode": {
    "name": "ipython",
    "version": 3
   },
   "file_extension": ".py",
   "mimetype": "text/x-python",
   "name": "python",
   "nbconvert_exporter": "python",
   "pygments_lexer": "ipython3",
   "version": "3.10.8"
  }
 },
 "nbformat": 4,
 "nbformat_minor": 5
}
