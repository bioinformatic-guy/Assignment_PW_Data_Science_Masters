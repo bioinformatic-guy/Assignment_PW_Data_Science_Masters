{
 "cells": [
  {
   "cell_type": "markdown",
   "id": "257c98da-2d4b-4092-a7de-7fa993f2c09e",
   "metadata": {},
   "source": [
    "# Assignment 16th Feb"
   ]
  },
  {
   "cell_type": "markdown",
   "id": "bd8af1f2-eb5f-43ee-bbba-31c2df5f1635",
   "metadata": {},
   "source": [
    "## Q1. What is a database? Differentiate between SQL and NoSQL databases."
   ]
  },
  {
   "cell_type": "markdown",
   "id": "7bc72567-2e75-4a4c-af0a-62ffec20e7cd",
   "metadata": {},
   "source": [
    "A database is an organized collection of data that can be accessed, managed, and updated easily. It can be a digital collection of data or information that can be structured or unstructured, and can be used for various purposes such as storing information about customers, products, transactions, and more."
   ]
  },
  {
   "cell_type": "markdown",
   "id": "c4f5dc3e-2b49-4bae-859a-50700e5e6723",
   "metadata": {},
   "source": [
    "SQL (Structured Query Language) and NoSQL (Not only SQL) are two different types of database management systems that differ in their data storage and retrieval methods. Here are some key differences between SQL and NoSQL databases:"
   ]
  },
  {
   "cell_type": "markdown",
   "id": "2ca531f1-9ec8-43ed-a80b-75ed81ef4028",
   "metadata": {},
   "source": [
    "- Data Model:\n",
    "SQL databases are based on the relational data model, which means that the data is stored in tables with predefined schema, and the relationships between the tables are defined through foreign keys. NoSQL databases, on the other hand, have a more flexible data model that can be document-oriented, key-value, graph-based, or column-family based.\n",
    "\n",
    "- Scalability:\n",
    "SQL databases are vertically scalable, which means that they can handle an increase in workload by adding more processing power, memory, or storage capacity to the server. NoSQL databases, on the other hand, are horizontally scalable, which means that they can handle an increase in workload by adding more servers to the database cluster.\n",
    "\n",
    "- Consistency:\n",
    "SQL databases are known for their strong consistency, which means that the data in the database is always in a valid state, and any transaction that modifies the data will be either completed or rolled back. NoSQL databases, on the other hand, may sacrifice consistency for scalability and partition tolerance, which means that there may be some eventual consistency issues.\n",
    "\n",
    "- Query Language:\n",
    "SQL databases use SQL as the standard language for querying and manipulating the data, which is a declarative language that specifies what data should be retrieved or modified. NoSQL databases use different query languages, depending on the type of database. For example, MongoDB uses a document-based query language, while Cassandra uses a CQL (Cassandra Query Language).\n",
    "\n",
    "Overall, the choice between SQL and NoSQL databases depends on the specific needs of your application. SQL databases are better suited for applications that require strong consistency, ACID transactions, and a fixed data schema. NoSQL databases, on the other hand, are better suited for applications that require high scalability, flexible data models, and eventual consistency."
   ]
  },
  {
   "cell_type": "markdown",
   "id": "1ba9e894-a3ec-42d4-8d4e-f5eb13e4bf2e",
   "metadata": {},
   "source": [
    "## Q2. What is DDL? Explain why CREATE, DROP, ALTER, and TRUNCATE are used with an example."
   ]
  },
  {
   "cell_type": "markdown",
   "id": "279bfdfa-4747-4845-a1ab-aaaa11636a63",
   "metadata": {},
   "source": [
    "- DDL stands for Data Definition Language, which is a subset of SQL (Structured Query Language) used to define, modify, and delete database objects such as tables, indexes, and views. Here are some common DDL statements and their uses:"
   ]
  },
  {
   "cell_type": "markdown",
   "id": "9af82f92-2bdf-4a5d-bbcf-29cebc2d8740",
   "metadata": {},
   "source": [
    "1. `CREATE:`\n",
    "    The CREATE statement is used to create a new database object, such as a table, view, or index. For example, to create a new table named \"customers\" with columns for \"id\", \"name\", and \"email\", you could use the following CREATE statement:"
   ]
  },
  {
   "cell_type": "raw",
   "id": "63e0f7f5-490b-499d-a2b5-1fc52b715a5d",
   "metadata": {},
   "source": [
    "CREATE TABLE customers (\n",
    "  id INT PRIMARY KEY,\n",
    "  name VARCHAR(50),\n",
    "  email VARCHAR(50)\n",
    ");"
   ]
  },
  {
   "cell_type": "markdown",
   "id": "34b64a0b-aa13-48d5-add4-fa2f1f41087c",
   "metadata": {},
   "source": [
    "2. `DROP:`\n",
    "The DROP statement is used to delete a database object, such as a table, view, or index. For example, to delete the \"customers\" table created in the previous example, you could use the following DROP statement:"
   ]
  },
  {
   "cell_type": "raw",
   "id": "f9d07695-ee21-424e-93c3-bea5eb6cb396",
   "metadata": {},
   "source": [
    "DROP TABLE customers;"
   ]
  },
  {
   "cell_type": "markdown",
   "id": "6a6fb977-df99-44ee-9079-47ca4b88a54a",
   "metadata": {},
   "source": [
    "3. `ALTER:`\n",
    "The ALTER statement is used to modify the structure of an existing database object, such as a table or view. For example, to add a new column named \"phone\" to the \"customers\" table created in the first example, you could use the following ALTER statement:"
   ]
  },
  {
   "cell_type": "raw",
   "id": "2d203ada-4325-4e7e-b650-4a374c777ca3",
   "metadata": {},
   "source": [
    "ALTER TABLE customers ADD phone VARCHAR(20);"
   ]
  },
  {
   "cell_type": "markdown",
   "id": "d9de1d71-da75-482a-af61-e8ec34945282",
   "metadata": {},
   "source": [
    "4. `TRUNCATE:`\n",
    "The TRUNCATE statement is used to delete all data from a table without deleting the table itself. For example, to delete all data from the \"customers\" table created in the first example, you could use the following TRUNCATE statement:"
   ]
  },
  {
   "cell_type": "raw",
   "id": "9c8455f7-35aa-452e-b68c-5339357f59cc",
   "metadata": {},
   "source": [
    "TRUNCATE TABLE customers;"
   ]
  },
  {
   "cell_type": "markdown",
   "id": "8c1f31cd-56e7-4f88-b662-a69b25fc5a9e",
   "metadata": {},
   "source": [
    "In summary, DDL statements are used to define, modify, and delete database objects, and are essential for managing the structure of a database. The CREATE statement is used to create new database objects, the DROP statement is used to delete them, the ALTER statement is used to modify their structure, and the TRUNCATE statement is used to delete data from tables without deleting the tables themselves."
   ]
  },
  {
   "cell_type": "markdown",
   "id": "9afe8909-329c-4d45-a83a-5ebff7074d38",
   "metadata": {},
   "source": [
    "## Q3. What is DML? Explain INSERT, UPDATE, and DELETE with an example."
   ]
  },
  {
   "cell_type": "markdown",
   "id": "4ef6f859-4479-457a-bd2f-fb3f46db42ab",
   "metadata": {},
   "source": [
    "DML stands for Data Manipulation Language, which is a subset of SQL (Structured Query Language) used to manipulate the data stored in the database. DML statements are used to insert, update, retrieve, and delete data from a table. Here are some common DML statements and their uses:\n",
    "\n",
    "1. `INSERT:`\n",
    "The INSERT statement is used to insert new data into a table. For example, to insert a new record into the \"customers\" table created in the previous example, you could use the following INSERT statement:"
   ]
  },
  {
   "cell_type": "raw",
   "id": "70a7af47-aa69-4e9a-ad8a-9cfc2c354bf0",
   "metadata": {},
   "source": [
    "INSERT INTO customers (id, name, email) VALUES (1, 'John Smith', 'john.smith@example.com');"
   ]
  },
  {
   "cell_type": "markdown",
   "id": "73238627-068e-4726-a5e2-6b27690d7790",
   "metadata": {},
   "source": [
    "2. `UPDATE:`\n",
    "The UPDATE statement is used to modify existing data in a table. For example, to update the email address of the customer with id 1 in the \"customers\" table, you could use the following UPDATE statement:"
   ]
  },
  {
   "cell_type": "raw",
   "id": "49caeed7-7c0e-4c11-9680-77cae6dec2c3",
   "metadata": {},
   "source": [
    "UPDATE customers SET email = 'john.smith.updated@example.com' WHERE id = 1;"
   ]
  },
  {
   "cell_type": "markdown",
   "id": "c0d867ce-2833-432a-8479-2747fa6fdb49",
   "metadata": {},
   "source": [
    "3. `DELETE:`\n",
    "The DELETE statement is used to delete data from a table. For example, to delete the customer with id 1 from the \"customers\" table, you could use the following DELETE statement:"
   ]
  },
  {
   "cell_type": "raw",
   "id": "7cb3f474-cbd8-4a55-b1b1-50703beb23a4",
   "metadata": {},
   "source": [
    "DELETE FROM customers WHERE id = 1;"
   ]
  },
  {
   "cell_type": "markdown",
   "id": "4edd612a-6bec-47af-b966-2925563be6d6",
   "metadata": {},
   "source": [
    "In summary, DML statements are used to manipulate the data stored in a database. The INSERT statement is used to add new data to a table, the UPDATE statement is used to modify existing data in a table, and the DELETE statement is used to remove data from a table. These statements are essential for managing the content of a database and allowing users to interact with the data stored in it."
   ]
  },
  {
   "cell_type": "markdown",
   "id": "f59ff5ec-faae-469d-aed1-e44540307c67",
   "metadata": {},
   "source": [
    "## Q4. What is DQL? Explain SELECT with an example."
   ]
  },
  {
   "cell_type": "markdown",
   "id": "8c07b8d6-8851-43e4-96f1-c8b480bd4216",
   "metadata": {},
   "source": [
    "- DQL stands for Data Query Language, which is a subset of SQL (Structured Query Language) used to retrieve data from a database. DQL statements are used to retrieve data from one or more tables and display the results to the user. The most commonly used DQL statement is the SELECT statement. Here is an example of how to use the SELECT statement to retrieve data from a table:\n",
    "\n",
    "Suppose we have a table named \"customers\" with the following data:"
   ]
  },
  {
   "cell_type": "raw",
   "id": "4adec859-9634-4bc2-8cac-6ca01604fcc6",
   "metadata": {},
   "source": [
    "id | name        | email\n",
    "---+-------------+-------------------------\n",
    "1  | John Smith  | john.smith@example.com\n",
    "2  | Jane Doe    | jane.doe@example.com\n",
    "3  | Bob Johnson | bob.johnson@example.com"
   ]
  },
  {
   "cell_type": "markdown",
   "id": "e3684887-308f-4394-b6f7-0f8141f77e1d",
   "metadata": {},
   "source": [
    "To retrieve all the data from the \"customers\" table, you could use the following SELECT statement:"
   ]
  },
  {
   "cell_type": "raw",
   "id": "0c5aabcc-1e06-4401-8ed3-3c145cd1651d",
   "metadata": {},
   "source": [
    "SELECT * FROM customers;"
   ]
  },
  {
   "cell_type": "markdown",
   "id": "0020124f-29cf-4a4c-a894-0331271dbac1",
   "metadata": {},
   "source": [
    "The asterisk (*) in the SELECT statement indicates that we want to retrieve all columns from the \"customers\" table. This would result in the following output:"
   ]
  },
  {
   "cell_type": "raw",
   "id": "fb94f97a-536e-48ba-b04f-82750d44da0f",
   "metadata": {},
   "source": [
    "id | name        | email\n",
    "---+-------------+-------------------------\n",
    "1  | John Smith  | john.smith@example.com\n",
    "2  | Jane Doe    | jane.doe@example.com\n",
    "3  | Bob Johnson | bob.johnson@example.com"
   ]
  },
  {
   "cell_type": "markdown",
   "id": "2ca09f6a-4e05-4df2-947e-fac2ff5fc537",
   "metadata": {},
   "source": [
    "We could also retrieve specific columns by listing them after the SELECT statement. For example, to retrieve only the \"id\" and \"name\" columns from the \"customers\" table, you could use the following SELECT statement:"
   ]
  },
  {
   "cell_type": "raw",
   "id": "833a11b3-11ef-489d-9869-70ee78a47bba",
   "metadata": {},
   "source": [
    "SELECT id, name FROM customers;"
   ]
  },
  {
   "cell_type": "markdown",
   "id": "03b41afd-0fa2-49f4-8171-4221a82a3496",
   "metadata": {},
   "source": [
    "This would result in the following output:"
   ]
  },
  {
   "cell_type": "raw",
   "id": "84d942f1-055f-4ad3-9b6d-63b63abdde21",
   "metadata": {},
   "source": [
    "id | name\n",
    "---+-------------\n",
    "1  | John Smith\n",
    "2  | Jane Doe\n",
    "3  | Bob Johnson"
   ]
  },
  {
   "cell_type": "markdown",
   "id": "ff9dd7f9-d5ff-423a-9a67-9184f2485134",
   "metadata": {},
   "source": [
    "In summary, the SELECT statement is used to retrieve data from one or more tables in a database. The asterisk (*) indicates that we want to retrieve all columns from a table, while listing specific columns after the SELECT statement allows us to retrieve only the data we need."
   ]
  },
  {
   "cell_type": "markdown",
   "id": "9eca879c-0f53-4116-bca9-8f751f20b7c5",
   "metadata": {},
   "source": [
    "## Q5. Explain Primary Key and Foreign Key."
   ]
  },
  {
   "cell_type": "markdown",
   "id": "103bc0d0-7d00-4721-b03c-0e616d405243",
   "metadata": {},
   "source": [
    "A primary key and foreign key are both used to establish relationships between tables in a relational database. Here's a brief explanation of each:\n",
    "\n",
    "1. `Primary Key:`\n",
    "A primary key is a column or set of columns in a table that uniquely identifies each row in that table. Primary keys are used to enforce the integrity of the data in the table, as well as to establish relationships between tables. Each table can have only one primary key, and it cannot contain null values. Here's an example:\n",
    "Suppose we have two tables, \"customers\" and \"orders.\" The \"customers\" table has a primary key on the \"id\" column, and the \"orders\" table has a foreign key on the \"customer_id\" column. This allows us to establish a one-to-many relationship between the two tables, where each customer can have multiple orders. The primary key in the \"customers\" table ensures that each row is uniquely identified, while the foreign key in the \"orders\" table references the primary key in the \"customers\" table to establish the relationship between the two tables.\n",
    "\n",
    "2. `Foreign Key:`\n",
    "A foreign key is a column or set of columns in a table that refers to the primary key of another table. Foreign keys are used to establish relationships between tables, and they ensure that the data in one table is consistent with the data in another table. The foreign key column must contain only values that exist in the primary key of the other table. Here's an example:\n",
    "Suppose we have two tables, \"orders\" and \"products.\" The \"orders\" table has a foreign key on the \"product_id\" column, which references the primary key on the \"id\" column in the \"products\" table. This allows us to establish a one-to-many relationship between the two tables, where each order can have only one product. The foreign key in the \"orders\" table ensures that each \"product_id\" value corresponds to a valid \"id\" value in the \"products\" table."
   ]
  },
  {
   "cell_type": "markdown",
   "id": "230a52d0-fa5b-4c6f-98cd-05e3395c5911",
   "metadata": {},
   "source": [
    "## Q6. Write a python code to connect MySQL to python. Explain the cursor() and execute() method."
   ]
  },
  {
   "cell_type": "raw",
   "id": "f9b877ab-e0fc-4828-862d-fb9f4a4b278d",
   "metadata": {},
   "source": [
    "import mysql.connector\n",
    "\n",
    "# Connect to MySQL\n",
    "mydb = mysql.connector.connect(\n",
    "  host=\"localhost\",\n",
    "  user=\"yourusername\",\n",
    "  password=\"yourpassword\",\n",
    "  database=\"yourdatabase\"\n",
    ")\n",
    "\n",
    "# Create a cursor object\n",
    "mycursor = mydb.cursor()\n",
    "\n",
    "# Execute a SQL query\n",
    "mycursor.execute(\"SELECT * FROM customers\")\n",
    "\n",
    "# Fetch all the rows from the query result\n",
    "result = mycursor.fetchall()\n",
    "\n",
    "# Print the rows\n",
    "for row in result:\n",
    "  print(row)"
   ]
  },
  {
   "cell_type": "markdown",
   "id": "039ccff5-0432-42be-bfdf-4da51a98caca",
   "metadata": {},
   "source": [
    "In the above code, we first import the mysql.connector library and then use it to connect to a MySQL database using the connect() method. We pass the host, user, password, and database name as parameters to this method.\n",
    "\n",
    "Next, we create a cursor object using the `cursor()` method on the connection object. A cursor object allows us to execute SQL queries and retrieve results from the database.\n",
    "\n",
    "We then use the `execute()` method on the cursor object to execute a SQL query. In this case, we are selecting all the rows from the \"customers\" table.\n",
    "\n",
    "After executing the query, we use the fetchall() method on the cursor object to retrieve all the rows from the query result. The rows are returned as a list of tuples.\n",
    "\n",
    "Finally, we iterate over the rows and print them one by one.\n",
    "\n",
    "In summary, the `cursor()` method creates a cursor object that allows us to execute SQL queries on the database, and the `execute()` method on the cursor object is used to execute a SQL query."
   ]
  },
  {
   "cell_type": "markdown",
   "id": "9a2b096b-d150-45bc-a39a-e56430cc8c04",
   "metadata": {},
   "source": [
    "## Q7. Give the order of execution of SQL clauses in an SQL query."
   ]
  },
  {
   "cell_type": "markdown",
   "id": "a6f2e372-e973-4d15-ab21-c4224ec385c0",
   "metadata": {},
   "source": [
    "In an SQL query, the clauses are executed in the following order:\n",
    "\n",
    "1. FROM: This clause specifies the table or tables from which to retrieve data.\n",
    "\n",
    "2. WHERE: This clause is used to filter the data based on one or more conditions.\n",
    "\n",
    "3. GROUP BY: This clause is used to group the data based on one or more columns.\n",
    "\n",
    "4. HAVING: This clause is used to filter the grouped data based on one or more conditions.\n",
    "\n",
    "5. SELECT: This clause is used to select the columns to retrieve from the table.\n",
    "\n",
    "6. DISTINCT: This clause is used to remove duplicate rows from the query result.\n",
    "\n",
    "7. ORDER BY: This clause is used to sort the data based on one or more columns.\n",
    "\n",
    "8. LIMIT: This clause is used to limit the number of rows returned by the query."
   ]
  },
  {
   "cell_type": "markdown",
   "id": "97c8aba9-a71c-4299-9e6a-204b0ae26268",
   "metadata": {},
   "source": [
    "---"
   ]
  },
  {
   "cell_type": "markdown",
   "id": "0db7c460-101c-4eb1-8c4c-678ab3094eb8",
   "metadata": {},
   "source": [
    "Created By -> Debabrata"
   ]
  },
  {
   "cell_type": "code",
   "execution_count": null,
   "id": "74687309-02b4-4a74-b984-1699fb252d0b",
   "metadata": {},
   "outputs": [],
   "source": []
  }
 ],
 "metadata": {
  "kernelspec": {
   "display_name": "Python 3 (ipykernel)",
   "language": "python",
   "name": "python3"
  },
  "language_info": {
   "codemirror_mode": {
    "name": "ipython",
    "version": 3
   },
   "file_extension": ".py",
   "mimetype": "text/x-python",
   "name": "python",
   "nbconvert_exporter": "python",
   "pygments_lexer": "ipython3",
   "version": "3.10.8"
  }
 },
 "nbformat": 4,
 "nbformat_minor": 5
}
