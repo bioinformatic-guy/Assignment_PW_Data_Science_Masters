{
 "cells": [
  {
   "cell_type": "markdown",
   "id": "dfd3114c-48da-4f2d-a99b-e2904b968ba7",
   "metadata": {},
   "source": [
    "# Assignment (3rd Feb)"
   ]
  },
  {
   "cell_type": "markdown",
   "id": "0b710c51-8d1f-4e41-a490-834f108d3ea1",
   "metadata": {},
   "source": [
    "## Q1. Which keyword is used to create a function? Create a function to return a list of odd numbers in the range of 1 to 25."
   ]
  },
  {
   "cell_type": "markdown",
   "id": "88430440-5194-4f0e-b02f-9833ea05cb89",
   "metadata": {},
   "source": [
    "-> **\"Def\"** is a keyword "
   ]
  },
  {
   "cell_type": "code",
   "execution_count": 1,
   "id": "61f87cbe-0ffa-421f-9f23-cc5122b68dd7",
   "metadata": {},
   "outputs": [],
   "source": [
    "def odd_num():\n",
    "    return [i for i in range(1,26) if i % 2 !=0]"
   ]
  },
  {
   "cell_type": "code",
   "execution_count": 3,
   "id": "779be286-dac3-4ff2-8346-335265358f02",
   "metadata": {},
   "outputs": [
    {
     "data": {
      "text/plain": [
       "[1, 3, 5, 7, 9, 11, 13, 15, 17, 19, 21, 23, 25]"
      ]
     },
     "execution_count": 3,
     "metadata": {},
     "output_type": "execute_result"
    }
   ],
   "source": [
    "odd_num()"
   ]
  },
  {
   "cell_type": "markdown",
   "id": "f2c9fc5a-ae55-4e64-9009-8d130b4b727a",
   "metadata": {},
   "source": [
    "## Q2. Why *args and **kwargs is used in some functions? Create a function each for *args and **kwargs to demonstrate their use."
   ]
  },
  {
   "cell_type": "markdown",
   "id": "06fa8f40-8aa1-460a-8fb4-2aa6107e6abe",
   "metadata": {},
   "source": [
    "*args and **kwargs are special syntax in Python used to pass a variable number of arguments to a function. The * operator allows a function to take an arbitrary number of non-keyword arguments, and the ** operator allows a function to take an arbitrary number of keyword arguments.\n",
    "\n",
    "*args is used to pass a variable number of non-keyword arguments to a function, and it's typically used when the number of arguments is unknown beforehand. The arguments passed to the function using *args are collected into a tuple.\n",
    "\n",
    "Here's an example of a function that uses *args:"
   ]
  },
  {
   "cell_type": "code",
   "execution_count": 4,
   "id": "0c64c74e-18e9-460f-845a-5c54d6707bf5",
   "metadata": {},
   "outputs": [],
   "source": [
    "def print_args(*args):\n",
    "    for arg in args:\n",
    "        print(arg)\n"
   ]
  },
  {
   "cell_type": "markdown",
   "id": "fe76f67a-879f-4799-bf50-f0288f6727a4",
   "metadata": {},
   "source": [
    "This function takes any number of non-keyword arguments, and it prints each argument separately. For example:"
   ]
  },
  {
   "cell_type": "code",
   "execution_count": 5,
   "id": "0be95d72-f7d6-4b33-ac4c-63243c01aa04",
   "metadata": {},
   "outputs": [
    {
     "name": "stdout",
     "output_type": "stream",
     "text": [
      "1\n",
      "2\n",
      "3\n",
      "4\n"
     ]
    }
   ],
   "source": [
    "print_args(1, 2, 3, 4)"
   ]
  },
  {
   "cell_type": "markdown",
   "id": "02989ba7-185f-43f8-a115-0e043d55400b",
   "metadata": {},
   "source": [
    "**kwargs is used to pass keyworded, variable-length argument list to a function. When a function is defined with **kwargs, it takes any number of keyword arguments, and the arguments are stored in a dictionary.\n",
    "\n",
    "Here's an example of a function that uses **kwargs:"
   ]
  },
  {
   "cell_type": "code",
   "execution_count": 6,
   "id": "797f0ee2-dff5-4938-b2bf-52c5d15086bf",
   "metadata": {},
   "outputs": [
    {
     "name": "stdout",
     "output_type": "stream",
     "text": [
      "first_name: John\n",
      "last_name: Doe\n",
      "age: 30\n"
     ]
    }
   ],
   "source": [
    "def print_kwargs(**kwargs):\n",
    "    for key, value in kwargs.items():\n",
    "        print(f\"{key}: {value}\")\n",
    "\n",
    "print_kwargs(first_name=\"John\", last_name=\"Doe\", age=30)\n"
   ]
  },
  {
   "cell_type": "markdown",
   "id": "f790fc26-8298-43e4-be74-9269ab46d641",
   "metadata": {},
   "source": [
    "## Q3. What is an iterator in python? Name the method used to initialise the iterator object and the method used for iteration. Use these methods to print the first five elements of the given list [2, 4, 6, 8, 10, 12, 14,16, 18, 20]."
   ]
  },
  {
   "cell_type": "markdown",
   "id": "f0be61d0-f6ef-4c77-bc11-7f378eb75744",
   "metadata": {},
   "source": [
    "In Python, an iterator is an object that implements the iterator protocol, which consists of the methods __iter__() and __next__(). The __iter__ method returns the iterator object itself, and the __next__ method returns the next item in the sequence.\n",
    "\n",
    "The iter() function can be used to initialize the iterator object. This function takes an iterable object, such as a list or a string, as an argument and returns an iterator.\n",
    "\n",
    "Here's an example:"
   ]
  },
  {
   "cell_type": "code",
   "execution_count": 1,
   "id": "a9320e5c-a6c4-4f87-bdfd-e341eba5f0ec",
   "metadata": {},
   "outputs": [
    {
     "data": {
      "text/plain": [
       "list_iterator"
      ]
     },
     "execution_count": 1,
     "metadata": {},
     "output_type": "execute_result"
    }
   ],
   "source": [
    "numbers = [1, 2, 3, 4, 5]\n",
    "iterator = iter(numbers)\n",
    "type(iterator)"
   ]
  },
  {
   "cell_type": "markdown",
   "id": "106bdb9d-3375-4e86-b23c-e08b581dc747",
   "metadata": {},
   "source": [
    "The next() function can be used to iterate over the items in an iterator. This function returns the next item in the sequence and raises a StopIteration exception when there are no more items.\n",
    "next(iterator)"
   ]
  },
  {
   "cell_type": "code",
   "execution_count": 10,
   "id": "d48d0e6d-4e0b-4cb3-ac85-8c3a0f04a2d5",
   "metadata": {},
   "outputs": [
    {
     "ename": "StopIteration",
     "evalue": "",
     "output_type": "error",
     "traceback": [
      "\u001b[0;31m---------------------------------------------------------------------------\u001b[0m",
      "\u001b[0;31mStopIteration\u001b[0m                             Traceback (most recent call last)",
      "Cell \u001b[0;32mIn[10], line 1\u001b[0m\n\u001b[0;32m----> 1\u001b[0m \u001b[38;5;28;43mnext\u001b[39;49m\u001b[43m(\u001b[49m\u001b[43miterator\u001b[49m\u001b[43m)\u001b[49m\n",
      "\u001b[0;31mStopIteration\u001b[0m: "
     ]
    }
   ],
   "source": [
    "next(iterator)"
   ]
  },
  {
   "cell_type": "code",
   "execution_count": 11,
   "id": "a5553c3a-b3aa-4eb5-9851-322ca33f25ee",
   "metadata": {},
   "outputs": [
    {
     "name": "stdout",
     "output_type": "stream",
     "text": [
      "2\n",
      "4\n",
      "6\n",
      "8\n",
      "10\n"
     ]
    }
   ],
   "source": [
    "numbers = [2, 4, 6, 8, 10, 12, 14, 16, 18, 20]\n",
    "iterator = iter(numbers)\n",
    "for i in range(5):\n",
    "    print(next(iterator))"
   ]
  },
  {
   "cell_type": "markdown",
   "id": "d1ed43e6-0144-49a6-8d63-200f5c637f41",
   "metadata": {},
   "source": [
    "## Q4. What is a generator function in python? Why yield keyword is used? Give an example of a generator function."
   ]
  },
  {
   "cell_type": "markdown",
   "id": "581184a0-5d5c-4167-a500-921084b16289",
   "metadata": {},
   "source": [
    "A generator function is a special type of function in Python that returns an iterator. Unlike normal functions, which return a single value using the return statement, a generator function uses the yield statement to return a sequence of values, one at a time, every time it's called."
   ]
  },
  {
   "cell_type": "markdown",
   "id": "058ce608-b25e-462c-8750-4abf1f22f698",
   "metadata": {},
   "source": [
    "The values returned by the generator function can be used in a for loop, or they can be manually retrieved one by one using the next() function. When the generator function has no more values to return, it raises a StopIteration exception.\n",
    "\n",
    "Generator functions are defined using the def keyword, just like normal functions. However, instead of using the return statement, the generator function uses the yield statement to return values."
   ]
  },
  {
   "cell_type": "markdown",
   "id": "3ba9a601-1809-4e96-ac12-8e385b619a38",
   "metadata": {},
   "source": [
    "The **yield** keyword is used in generator functions to produce a sequence of values. Unlike a normal function that runs to completion and returns a single value, a generator function can be paused at any point, and its state can be saved so that it can be resumed later from where it left off.\n",
    "\n",
    "When the **yield** keyword is encountered, the function generates a value, which can be received by the caller, and then suspends its execution until the next value is requested. The function retains its state between calls, so it can be resumed right where it left off, allowing it to generate an entire sequence of values."
   ]
  },
  {
   "cell_type": "code",
   "execution_count": 12,
   "id": "f83dc504-130d-4255-8b7d-ddaec37d36df",
   "metadata": {},
   "outputs": [
    {
     "name": "stdout",
     "output_type": "stream",
     "text": [
      "0\n",
      "1\n",
      "2\n",
      "3\n",
      "4\n"
     ]
    }
   ],
   "source": [
    "def my_generator():\n",
    "    i = 0\n",
    "    while i < 5:\n",
    "        yield i\n",
    "        i += 1\n",
    "\n",
    "gen = my_generator()\n",
    "for num in gen:\n",
    "    print(num)\n"
   ]
  },
  {
   "cell_type": "markdown",
   "id": "a69697bd-39b8-476e-b94f-d1b7b1f069b9",
   "metadata": {},
   "source": [
    "## Q5. Create a generator function for prime numbers less than 1000. Use the next() method to print the first 20 prime numbers."
   ]
  },
  {
   "cell_type": "code",
   "execution_count": 13,
   "id": "90ade91a-e5b8-478a-b350-325fec1fec8c",
   "metadata": {},
   "outputs": [
    {
     "name": "stdout",
     "output_type": "stream",
     "text": [
      "2\n",
      "3\n",
      "5\n",
      "7\n",
      "11\n",
      "13\n",
      "17\n",
      "19\n",
      "23\n",
      "29\n",
      "31\n",
      "37\n",
      "41\n",
      "43\n",
      "47\n",
      "53\n",
      "59\n",
      "61\n",
      "67\n",
      "71\n"
     ]
    }
   ],
   "source": [
    "def prime_numbers():\n",
    "    for num in range(2, 1000):\n",
    "        for i in range(2, num):\n",
    "            if num % i == 0:\n",
    "                break\n",
    "        else:\n",
    "            yield num\n",
    "\n",
    "gen = prime_numbers()\n",
    "for i in range(20):\n",
    "    print(next(gen))\n"
   ]
  },
  {
   "cell_type": "markdown",
   "id": "60474b1c-3d4e-4eae-a55b-8ffb0343b773",
   "metadata": {},
   "source": [
    "## Q6. Write a python program to print the first 10 Fibonacci numbers using a while loop."
   ]
  },
  {
   "cell_type": "code",
   "execution_count": 15,
   "id": "70c57096-c030-46ab-8c9d-df51502aa45f",
   "metadata": {},
   "outputs": [
    {
     "name": "stdout",
     "output_type": "stream",
     "text": [
      "0\n",
      "1\n",
      "1\n",
      "2\n",
      "3\n",
      "5\n",
      "8\n",
      "13\n",
      "21\n",
      "34\n"
     ]
    }
   ],
   "source": [
    "def fibonacci_numbers(n):\n",
    "    a = 0\n",
    "    b = 1\n",
    "    count = 0\n",
    "    while count < n:\n",
    "        print(a)\n",
    "        c = a + b\n",
    "        a,b = b,c\n",
    "        count += 1\n",
    "\n",
    "fibonacci_numbers(10)\n"
   ]
  },
  {
   "cell_type": "markdown",
   "id": "57a5a103-7bba-480b-89fe-314f57ca9206",
   "metadata": {},
   "source": [
    "## Q7. Write a List Comprehension to iterate through the given string: ‘pwskills’. \n",
    "Expected output: ['p', 'w', 's', 'k', 'i', 'l', 'l', 's']"
   ]
  },
  {
   "cell_type": "code",
   "execution_count": 16,
   "id": "3b4e83c7-42fc-4165-b4f8-21dfbd99af0e",
   "metadata": {},
   "outputs": [
    {
     "data": {
      "text/plain": [
       "['p', 'w', 's', 'k', 'i', 'l', 'l', 's']"
      ]
     },
     "execution_count": 16,
     "metadata": {},
     "output_type": "execute_result"
    }
   ],
   "source": [
    "s = 'pwskills'\n",
    "[i for i in s] # list Comprehension"
   ]
  },
  {
   "cell_type": "markdown",
   "id": "f556524d-54f4-47f2-9e6a-fdb7280ac9e3",
   "metadata": {},
   "source": [
    "## Q8. Write a python program to check whether a given number is Palindrome or not using a while loop."
   ]
  },
  {
   "cell_type": "code",
   "execution_count": 20,
   "id": "de75c866-c4f7-4fff-bf0d-afdae8b0ae07",
   "metadata": {},
   "outputs": [
    {
     "name": "stdin",
     "output_type": "stream",
     "text": [
      "Type a number: 1569\n"
     ]
    },
    {
     "name": "stdout",
     "output_type": "stream",
     "text": [
      "1569 is not a palindrome.\n"
     ]
    }
   ],
   "source": [
    "num = int(input('Type a number:'))\n",
    "\n",
    "def is_palindrome(num):\n",
    "    original_num=num\n",
    "    reverse_num = 0\n",
    "    while num > 0:\n",
    "        digit = num % 10\n",
    "        reverse_num = reverse_num * 10 + digit\n",
    "        num = num // 10\n",
    "    return original_num == reverse_num\n",
    "\n",
    "\n",
    "if is_palindrome(num):\n",
    "    print(f\"{num} is a palindrome.\")\n",
    "else:\n",
    "    print(f\"{num} is not a palindrome.\")"
   ]
  },
  {
   "cell_type": "markdown",
   "id": "bfbe1c0d-84e2-4873-a486-76f1a988d3aa",
   "metadata": {},
   "source": [
    "## Q9. Write a code to print odd numbers from 1 to 100 using list comprehension."
   ]
  },
  {
   "cell_type": "code",
   "execution_count": 23,
   "id": "c72de539-5b58-4c1b-ade5-f6e8f33184be",
   "metadata": {},
   "outputs": [
    {
     "name": "stdout",
     "output_type": "stream",
     "text": [
      "All number till 100 [1, 2, 3, 4, 5, 6, 7, 8, 9, 10, 11, 12, 13, 14, 15, 16, 17, 18, 19, 20, 21, 22, 23, 24, 25, 26, 27, 28, 29, 30, 31, 32, 33, 34, 35, 36, 37, 38, 39, 40, 41, 42, 43, 44, 45, 46, 47, 48, 49, 50, 51, 52, 53, 54, 55, 56, 57, 58, 59, 60, 61, 62, 63, 64, 65, 66, 67, 68, 69, 70, 71, 72, 73, 74, 75, 76, 77, 78, 79, 80, 81, 82, 83, 84, 85, 86, 87, 88, 89, 90, 91, 92, 93, 94, 95, 96, 97, 98, 99, 100]\n",
      "Odd Numbers are:  [1, 3, 5, 7, 9, 11, 13, 15, 17, 19, 21, 23, 25, 27, 29, 31, 33, 35, 37, 39, 41, 43, 45, 47, 49, 51, 53, 55, 57, 59, 61, 63, 65, 67, 69, 71, 73, 75, 77, 79, 81, 83, 85, 87, 89, 91, 93, 95, 97, 99]\n"
     ]
    }
   ],
   "source": [
    "all_numbers= [i for i in range(1,101)]\n",
    "odd_numbers = [i for i in range(1,100) if i % 2 !=0]\n",
    "print('All number till 100',all_numbers)\n",
    "print('Odd Numbers are: ',odd_numbers)"
   ]
  },
  {
   "cell_type": "markdown",
   "id": "35686b45-c6f1-4932-b42c-680627de6e4a",
   "metadata": {},
   "source": [
    "---"
   ]
  },
  {
   "cell_type": "markdown",
   "id": "f1dd06de-e8c4-442a-9e0b-7b31021d2fce",
   "metadata": {},
   "source": [
    "Created by --- *Debabrata Samanta* "
   ]
  },
  {
   "cell_type": "code",
   "execution_count": null,
   "id": "52c92b7e-9098-4ecd-a88d-711ddcf0b57e",
   "metadata": {},
   "outputs": [],
   "source": []
  }
 ],
 "metadata": {
  "kernelspec": {
   "display_name": "Python 3 (ipykernel)",
   "language": "python",
   "name": "python3"
  },
  "language_info": {
   "codemirror_mode": {
    "name": "ipython",
    "version": 3
   },
   "file_extension": ".py",
   "mimetype": "text/x-python",
   "name": "python",
   "nbconvert_exporter": "python",
   "pygments_lexer": "ipython3",
   "version": "3.10.8"
  }
 },
 "nbformat": 4,
 "nbformat_minor": 5
}
