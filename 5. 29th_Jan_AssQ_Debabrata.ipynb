{
 "cells": [
  {
   "cell_type": "markdown",
   "id": "cb5cf3e9-bdf2-4802-92af-546daaad5176",
   "metadata": {},
   "source": [
    "# Assignment 29th Jan"
   ]
  },
  {
   "cell_type": "markdown",
   "id": "2cba948c-d76a-4726-afda-9ea1bf3f2b19",
   "metadata": {},
   "source": [
    "## 1. Who Developed Python Programming Language ?"
   ]
  },
  {
   "cell_type": "markdown",
   "id": "364c0036-eca7-4f8b-939a-0c57fe07dd56",
   "metadata": {},
   "source": [
    "`Guido van Rossum` developed the Python programming language."
   ]
  },
  {
   "cell_type": "markdown",
   "id": "2d2b326f-0280-4ca0-a1d5-5d9587ee53a6",
   "metadata": {},
   "source": [
    "## 2.Which type of Programming does Python support ?"
   ]
  },
  {
   "cell_type": "markdown",
   "id": "0bb6ade2-2d46-47ca-bed3-e92b34e32928",
   "metadata": {},
   "source": [
    "Python supports several programming paradigms including procedural, object-oriented, functional, and aspect-oriented programming."
   ]
  },
  {
   "cell_type": "markdown",
   "id": "3d12c626-ff91-423a-a2c3-a8b29499169e",
   "metadata": {},
   "source": [
    "## 3. Is Python case sensitive when dealing with identifiers ?"
   ]
  },
  {
   "cell_type": "markdown",
   "id": "143e91e0-9e85-4bfa-8a3f-a2c1705be10c",
   "metadata": {},
   "source": [
    "Yes, Python is case sensitive when dealing with identifiers. For example, the names \"myVariable\" and \"myvariable\" would be considered as two different variables."
   ]
  },
  {
   "cell_type": "markdown",
   "id": "3667447c-58ab-42bb-b086-e8641a34e589",
   "metadata": {},
   "source": [
    "## 4. What is the correct extension of the Python file ?"
   ]
  },
  {
   "cell_type": "markdown",
   "id": "c8216b7f-7395-4803-bfdf-a01dd1fa9a27",
   "metadata": {},
   "source": [
    "The correct extension of a Python file is `'.py'`."
   ]
  },
  {
   "cell_type": "markdown",
   "id": "ed4807cb-02e0-4971-9add-c9dceebec5a9",
   "metadata": {},
   "source": [
    "## 5. Is Python code compiled or interpreted ?"
   ]
  },
  {
   "cell_type": "markdown",
   "id": "759ee9e2-5e43-444f-a0e9-268180bcc03e",
   "metadata": {},
   "source": [
    "Python is an interpreted language, which means that the source code is executed line by line at runtime by the Python interpreter, rather than being compiled ahead of time into machine code like in compiled languages such as C or C++."
   ]
  },
  {
   "cell_type": "markdown",
   "id": "856c6e17-f589-47ef-bac5-3f62b074d24c",
   "metadata": {},
   "source": [
    "## 6. Name a few blocks of code used to define in Python Language?"
   ]
  },
  {
   "cell_type": "markdown",
   "id": "76534b24-b651-4003-8b6b-97ef1c834bc9",
   "metadata": {},
   "source": [
    "In Python, code blocks are defined using indentation. The following blocks of code are commonly used in Python:\n",
    "\n",
    "- Functions: A block of code that performs a specific task. It starts with the def keyword and is followed by the function name, arguments, and the block of code to be executed.\n",
    "\n",
    "- Loops: A block of code that is executed multiple times. This can be achieved using for loops or while loops.\n",
    "\n",
    "- Conditional statements: A block of code that is executed only if a certain condition is met. This is achieved using if statements, elif statements, and else statements.\n",
    "\n",
    "- Classes: A blueprint for creating objects. A class is defined using the class keyword and consists of attributes, methods, and constructors.\n",
    "\n",
    "- Context Managers: A block of code that defines a context for executing code within a specific scope. Context managers are defined using the with statement."
   ]
  },
  {
   "cell_type": "markdown",
   "id": "e0629895-d520-4893-b5cd-430b7279e2a2",
   "metadata": {},
   "source": [
    "## 7. State a character used to give single-line comments in Python ?"
   ]
  },
  {
   "cell_type": "markdown",
   "id": "2d1a2446-c6ce-4a3c-ab1d-7de422df1f65",
   "metadata": {},
   "source": [
    "The character used to give single-line comments in Python is \"#\"."
   ]
  },
  {
   "cell_type": "markdown",
   "id": "2794584a-1af9-46c1-8590-6d91654b118f",
   "metadata": {},
   "source": [
    "## 8. Mention function which can help us to find the version of python that we are currently working on?"
   ]
  },
  {
   "cell_type": "markdown",
   "id": "b4f135fd-b4d3-4f49-9fab-62d23afe7e12",
   "metadata": {},
   "source": [
    "The function `sys.version` can be used to find the version of python that you are currently working on."
   ]
  },
  {
   "cell_type": "code",
   "execution_count": 6,
   "id": "002894ed-d82f-4ed5-9597-980abf795007",
   "metadata": {},
   "outputs": [
    {
     "data": {
      "text/plain": [
       "'3.10.8 | packaged by conda-forge | (main, Nov 22 2022, 08:26:04) [GCC 10.4.0]'"
      ]
     },
     "execution_count": 6,
     "metadata": {},
     "output_type": "execute_result"
    }
   ],
   "source": [
    "sys.version"
   ]
  },
  {
   "cell_type": "markdown",
   "id": "e1e03373-d061-4e94-a2e9-76674f5e3c6b",
   "metadata": {},
   "source": [
    "## 9. Python supports the creation of anonymous function at runtime, using a construct called ?"
   ]
  },
  {
   "cell_type": "markdown",
   "id": "ff09bb65-feb5-4faf-bc83-748bb7eb401c",
   "metadata": {},
   "source": [
    "The anonymous function in Python is supported using a construct called `\"lambda\".`"
   ]
  },
  {
   "cell_type": "markdown",
   "id": "e4eab792-d3df-4d7c-b37e-40ca3181dcff",
   "metadata": {},
   "source": [
    "## 10. What does pip stand for python?"
   ]
  },
  {
   "cell_type": "markdown",
   "id": "4269faf0-e4be-4c90-9c1c-8b80037a7723",
   "metadata": {},
   "source": [
    "Pip stands for \"Pip Installs Packages\". It is a package manager for Python, used to install and manage software packages written in Python."
   ]
  },
  {
   "cell_type": "markdown",
   "id": "a2960d5b-5cbf-4024-80fe-9be499371593",
   "metadata": {},
   "source": [
    "## 11. Mention a few built-in functions in python ?"
   ]
  },
  {
   "cell_type": "markdown",
   "id": "b821c1cc-df8d-483b-8ae2-fce7da392d6f",
   "metadata": {},
   "source": [
    "Here are a few built-in functions in Python:\n",
    "\n",
    "- print()\n",
    "- len()\n",
    "- range()\n",
    "- int()\n",
    "- float()\n",
    "- str()\n",
    "- sum()\n",
    "- max()"
   ]
  },
  {
   "cell_type": "markdown",
   "id": "d5efb1bc-1552-4238-9467-0ad81aa1e2a5",
   "metadata": {},
   "source": [
    "## 12. What is the maximum possible length of an identifier in Python ?"
   ]
  },
  {
   "cell_type": "markdown",
   "id": "b173432c-6845-4606-9688-e4dd408116ec",
   "metadata": {},
   "source": [
    "There is no specific limit to the maximum length of an identifier in Python, but it is generally limited by the underlying operating system and the memory available. However, it is recommended to keep the identifier name within a reasonable length for code readability and maintenance."
   ]
  },
  {
   "cell_type": "markdown",
   "id": "acfac74c-cb41-494c-8771-1c0f0dbfcb7f",
   "metadata": {},
   "source": [
    "## 13. What are the benefits of using Python ?"
   ]
  },
  {
   "cell_type": "markdown",
   "id": "b35bb92f-476a-4f74-a955-a17f37661300",
   "metadata": {},
   "source": [
    "There are many benefits of using Python, including:\n",
    "\n",
    "- Easy to Learn: Python has a simple and easy-to-learn syntax, making it a great choice for beginners.\n",
    "\n",
    "- Versatile: Python can be used for a wide range of applications, including web development, scientific computing, data analysis, artificial intelligence, and more.\n",
    "\n",
    "- Large Community: Python has a large and active community, which means that there are many resources available to help you learn and troubleshoot problems.\n",
    "\n",
    "- Large Standard Library: Python has a large standard library that provides a wide range of modules, functions, and tools, making it easier to build applications.\n",
    "\n",
    "- Dynamic Typing: Python supports dynamic typing, which means that variables do not need to be declared with a specific data type.\n",
    "\n",
    "- Cross-Platform Support: Python can run on a variety of operating systems, including Windows, macOS, and Linux.\n",
    "\n",
    "- Open-Source: Python is open-source software, which means that the source code is freely available and can be modified and distributed by anyone."
   ]
  },
  {
   "cell_type": "markdown",
   "id": "f7d63a73-5173-4366-b4fd-6abbcb765020",
   "metadata": {},
   "source": [
    "## 14. How is memory managed in Python ?"
   ]
  },
  {
   "cell_type": "markdown",
   "id": "042beef1-9dcc-4a81-8c14-9980fb961e52",
   "metadata": {},
   "source": [
    "In Python, memory management is handled by the Python Memory Manager. It is responsible for allocating memory for Python objects and data structures and freeing up the memory when it is no longer needed. The Python interpreter automatically tracks the objects that are no longer in use and releases the memory occupied by them. This makes memory management in Python much easier compared to other programming languages. Additionally, Python also has garbage collection that helps in reclaiming the memory that is no longer being used by the application."
   ]
  },
  {
   "cell_type": "markdown",
   "id": "88e25d50-2514-4961-86c1-58133e47e04a",
   "metadata": {},
   "source": [
    "## 15. How is install Python on Windows and set path variables?"
   ]
  },
  {
   "cell_type": "markdown",
   "id": "9ad0077e-4606-4d25-9034-11b84eebcb4b",
   "metadata": {},
   "source": [
    "To install Python on Windows and set the path variables, follow these steps:\n",
    "\n",
    "Go to the official Python website (https://www.python.org/downloads/windows/).\n",
    "\n",
    "Download the latest version of Python for Windows.\n",
    "\n",
    "Run the setup file and follow the instructions to install Python on your system.\n",
    "\n",
    "After installation, open the Command Prompt and check the version of Python installed using the command \"python --version\".\n",
    "\n",
    "To set the path variables, follow these steps:\n",
    "a. Right-click on the Start button and select System.\n",
    "b. Click on Advanced system settings.\n",
    "c. Click on Environment Variables.\n",
    "d. Under System Variables, scroll down and find the variable named Path.\n",
    "e. Click on Edit and then click on New.\n",
    "f. Enter the path of the Python installation directory (e.g. C:\\Python37).\n",
    "g. Click OK to save the changes.\n",
    "\n",
    "Verify the path variable by opening the Command Prompt and typing \"python\" to enter the Python environment.\n",
    "\n",
    "Note: The process may vary slightly based on the version of Windows you are using."
   ]
  },
  {
   "cell_type": "markdown",
   "id": "7faac78c-d432-4063-8724-fa69f14e9414",
   "metadata": {},
   "source": [
    "## 16. Is indentation required in Python ?"
   ]
  },
  {
   "cell_type": "markdown",
   "id": "8b06b900-070a-4877-8586-0cd71b4dd25a",
   "metadata": {},
   "source": [
    "Yes, Indentation is required in Python."
   ]
  },
  {
   "cell_type": "markdown",
   "id": "55422c66-7882-4758-be63-f30494850241",
   "metadata": {},
   "source": [
    "---"
   ]
  },
  {
   "cell_type": "markdown",
   "id": "cb95eae3-0316-495b-8b9b-aba5b4aa5acb",
   "metadata": {},
   "source": [
    "Created by -> Debabrata"
   ]
  }
 ],
 "metadata": {
  "kernelspec": {
   "display_name": "Python 3 (ipykernel)",
   "language": "python",
   "name": "python3"
  },
  "language_info": {
   "codemirror_mode": {
    "name": "ipython",
    "version": 3
   },
   "file_extension": ".py",
   "mimetype": "text/x-python",
   "name": "python",
   "nbconvert_exporter": "python",
   "pygments_lexer": "ipython3",
   "version": "3.10.8"
  }
 },
 "nbformat": 4,
 "nbformat_minor": 5
}
