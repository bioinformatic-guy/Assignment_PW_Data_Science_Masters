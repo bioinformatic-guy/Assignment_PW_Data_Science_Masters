{
 "cells": [
  {
   "cell_type": "markdown",
   "id": "ee731696-a133-40c6-96f0-6b688e4767a7",
   "metadata": {},
   "source": [
    "# Assignment 17th Feb"
   ]
  },
  {
   "cell_type": "markdown",
   "id": "92d8a536-ebba-4dd0-94b6-2cc14ff3dfb6",
   "metadata": {},
   "source": [
    "## Q1. What is MongoDB? Explain non-relational databases in short. In which scenarios it is preferred to use MongoDB over SQL databases?"
   ]
  },
  {
   "cell_type": "markdown",
   "id": "c3eb42d0-bc8f-428b-8432-adc2ff63b38f",
   "metadata": {},
   "source": [
    "MongoDB is a popular open-source document-oriented NoSQL database that stores data in flexible, semi-structured BSON (Binary JSON) format. It provides a flexible data model and high scalability, and is designed to handle large amounts of unstructured and semi-structured data.\n",
    "\n",
    "Non-relational databases, also known as NoSQL databases, are databases that do not use the traditional tabular relational database model. Instead, they use a variety of data models, such as document-oriented, key-value, graph, and column-oriented, to store and manage data. NoSQL databases are often used for storing unstructured or semi-structured data, such as text, images, videos, and other multimedia.\n",
    "\n",
    "MongoDB is often preferred over SQL databases in scenarios where:\n",
    "\n",
    "1. The data is unstructured or semi-structured: MongoDB is designed to handle unstructured and semi-structured data, which makes it a good choice for applications that deal with large amounts of unstructured data.\n",
    "\n",
    "2. High scalability: MongoDB is highly scalable and can handle large amounts of data and high traffic volume. It also supports sharding, which makes it easy to scale horizontally by adding more nodes to the database cluster.\n",
    "\n",
    "3. Agile development: MongoDB is highly flexible and can easily adapt to changing requirements, making it a good choice for agile development methodologies.\n",
    "\n",
    "4. Real-time analytics: MongoDB has built-in features for real-time analytics and querying, which makes it a good choice for applications that require fast and efficient data processing and analysis.\n",
    "\n",
    "5. Cloud-based applications: MongoDB has a cloud-based version, MongoDB Atlas, which makes it easy to deploy and manage databases in the cloud.\n",
    "\n",
    "In summary, MongoDB is a popular NoSQL database that provides a flexible data model, high scalability, and is designed to handle unstructured and semi-structured data. It is often preferred over SQL databases in scenarios where agility, scalability, and real-time analytics are important."
   ]
  },
  {
   "cell_type": "markdown",
   "id": "50ba938e-bc73-4b8a-94cb-55c7bb9f97b5",
   "metadata": {},
   "source": [
    "## Q2. State and Explain the features of MongoDB."
   ]
  },
  {
   "cell_type": "markdown",
   "id": "825240f7-0290-436a-b863-bd2301d3aa38",
   "metadata": {},
   "source": [
    "MongoDB is a popular open-source NoSQL document-oriented database that is designed to handle large amounts of unstructured and semi-structured data. Here are some of the key features of MongoDB:\n",
    "\n",
    "* Flexible Data Model: MongoDB uses a flexible document data model that allows it to store data in a non-relational format. This makes it easy to store, access, and update data in a variety of formats, including JSON-like documents.\n",
    "\n",
    "* High Scalability: MongoDB is highly scalable and can handle large amounts of data and high traffic volume. It also supports horizontal scaling through sharding, which makes it easy to scale by adding more nodes to the database cluster.\n",
    "\n",
    "* Indexing: MongoDB has a powerful indexing system that allows it to quickly search and retrieve data based on various criteria. It also supports secondary indexes and geospatial indexes, which makes it easy to perform complex queries on large datasets.\n",
    "\n",
    "* Automatic Sharding: MongoDB supports automatic sharding, which makes it easy to scale horizontally by adding more nodes to the database cluster. This feature helps to distribute data across multiple servers and ensures high availability and fault tolerance.\n",
    "\n",
    "* ACID Transactions: MongoDB supports ACID (Atomicity, Consistency, Isolation, and Durability) transactions, which ensures data consistency and integrity. It also supports multi-document transactions, which makes it easy to update multiple documents in a single operation.\n",
    "\n",
    "* Aggregation Framework: MongoDB has a powerful aggregation framework that allows it to perform complex queries and data aggregation operations on large datasets. It also supports MapReduce, which is a powerful tool for processing large volumes of data.\n",
    "\n",
    "* Support for Multiple Programming Languages: MongoDB supports multiple programming languages, including Java, Python, Ruby, Node.js, and PHP. This makes it easy to integrate with a variety of application frameworks and platforms.\n",
    "\n",
    "In summary, MongoDB is a flexible, scalable, and feature-rich NoSQL database that is designed to handle large amounts of unstructured and semi-structured data. Its features include a flexible data model, high scalability, powerful indexing and aggregation capabilities, automatic sharding, ACID transactions, and support for multiple programming languages."
   ]
  },
  {
   "cell_type": "markdown",
   "id": "241400f3-61bb-4273-ac54-e4fc743f3ee2",
   "metadata": {},
   "source": [
    "## Q3. Write a code to connect MongoDB to Python. Also, create a database and a collection in MongoDB."
   ]
  },
  {
   "cell_type": "markdown",
   "id": "83a87267-c196-4b62-96e9-a18031078160",
   "metadata": {},
   "source": [
    "To connect to MongoDB using Python, you need to install the pymongo library. You can do this by running the following command in your terminal:"
   ]
  },
  {
   "cell_type": "code",
   "execution_count": 2,
   "id": "fd89aec2-7ea3-4f16-b7e8-23de813b4438",
   "metadata": {},
   "outputs": [
    {
     "name": "stdout",
     "output_type": "stream",
     "text": [
      "Collecting pymongo\n",
      "  Downloading pymongo-4.3.3-cp310-cp310-manylinux_2_17_x86_64.manylinux2014_x86_64.whl (492 kB)\n",
      "\u001b[2K     \u001b[90m━━━━━━━━━━━━━━━━━━━━━━━━━━━━━━━━━━━━━━━\u001b[0m \u001b[32m492.9/492.9 kB\u001b[0m \u001b[31m5.0 MB/s\u001b[0m eta \u001b[36m0:00:00\u001b[0ma \u001b[36m0:00:01\u001b[0m\n",
      "\u001b[?25hCollecting dnspython<3.0.0,>=1.16.0\n",
      "  Downloading dnspython-2.3.0-py3-none-any.whl (283 kB)\n",
      "\u001b[2K     \u001b[90m━━━━━━━━━━━━━━━━━━━━━━━━━━━━━━━━━━━━━━\u001b[0m \u001b[32m283.7/283.7 kB\u001b[0m \u001b[31m28.6 MB/s\u001b[0m eta \u001b[36m0:00:00\u001b[0m\n",
      "\u001b[?25hInstalling collected packages: dnspython, pymongo\n",
      "Successfully installed dnspython-2.3.0 pymongo-4.3.3\n",
      "Note: you may need to restart the kernel to use updated packages.\n"
     ]
    }
   ],
   "source": [
    "pip install pymongo"
   ]
  },
  {
   "cell_type": "markdown",
   "id": "3814e3c8-41a4-465c-95b3-728cf8ebd0d9",
   "metadata": {},
   "source": [
    "Once you have installed the pymongo library, you can use the following Python code to connect to MongoDB, create a database, and create a collection:"
   ]
  },
  {
   "cell_type": "code",
   "execution_count": null,
   "id": "6b991873-7d32-4c17-a389-4abf3edaf9e4",
   "metadata": {},
   "outputs": [],
   "source": [
    "import pymongo\n",
    "\n",
    "# Replace the URL and database name with your own values\n",
    "url = \"mongodb://localhost:27017/\"\n",
    "database_name = \"mydatabase\"\n",
    "\n",
    "# Create a MongoClient object\n",
    "client = pymongo.MongoClient(url)\n",
    "\n",
    "# Create a new database\n",
    "database = client[database_name]\n",
    "\n",
    "# Create a new collection\n",
    "collection = database[\"mycollection\"]\n",
    "\n",
    "# Insert a document into the collection\n",
    "data = {\"name\": \"John\", \"age\": 30, \"city\": \"New York\"}\n",
    "result = collection.insert_one(data)\n",
    "\n",
    "# Print the ID of the inserted document\n",
    "print(result.inserted_id)"
   ]
  },
  {
   "cell_type": "raw",
   "id": "79eb9475-97d8-4766-9bc6-8f24debac7af",
   "metadata": {},
   "source": [
    "In this code, we first import the pymongo library. Then, we define the URL and database name for our MongoDB database. Next, we create a MongoClient object using the URL. This connects to the MongoDB server.\n",
    "\n",
    "We then create a new database using the database name. If the database doesn't exist, MongoDB will create it for us.\n",
    "\n",
    "After that, we create a new collection called mycollection using the database object. If the collection doesn't exist, MongoDB will create it for us.\n",
    "\n",
    "Finally, we insert a new document into the mycollection collection using the insert_one() method. The document is a dictionary with three key-value pairs: name, age, and city. The insert_one() method returns a InsertOneResult object, which contains the ID of the inserted document. We print the ID of the inserted document to the console using the inserted_id attribute.\n",
    "\n",
    "Note that you can replace the values of name, age, and city with your own data. Also, make sure to replace the url and database_name variables with the correct values for your MongoDB server."
   ]
  },
  {
   "cell_type": "markdown",
   "id": "abf92f3a-a2b1-4265-854f-5e192a759e91",
   "metadata": {},
   "source": [
    "## Q4. Using the database and the collection created in question number 3, write a code to insert one record, and insert many records. Use the find() and find_one() methods to print the inserted record."
   ]
  },
  {
   "cell_type": "code",
   "execution_count": 3,
   "id": "849d8ae5-b89d-4e93-9bc6-9bdb5d8362ae",
   "metadata": {},
   "outputs": [
    {
     "name": "stdout",
     "output_type": "stream",
     "text": [
      "{'_id': ObjectId('63f507dab5275aa99c9acd0a'), 'name': 'Alice', 'age': 25, 'city': 'London'}\n",
      "{'_id': ObjectId('63f507dab5275aa99c9acd0a'), 'name': 'Alice', 'age': 25, 'city': 'London'}\n",
      "{'_id': ObjectId('63f507dab5275aa99c9acd0b'), 'name': 'Bob', 'age': 30, 'city': 'Paris'}\n",
      "{'_id': ObjectId('63f507dab5275aa99c9acd0c'), 'name': 'Charlie', 'age': 35, 'city': 'Berlin'}\n",
      "{'_id': ObjectId('63f507dab5275aa99c9acd0d'), 'name': 'Dave', 'age': 40, 'city': 'Madrid'}\n"
     ]
    }
   ],
   "source": [
    "import pymongo\n",
    "\n",
    "# Replace the URL and database name with your own values\n",
    "\n",
    "client = pymongo.MongoClient(\"mongodb+srv://samanta-debabrata:<password>@cluster0.dmr0gz2.mongodb.net/?retryWrites=true&w=majority\")\n",
    "db = client.test\n",
    "\n",
    "# Create a new database\n",
    "database = db['assignment']\n",
    "\n",
    "# Create a new collection\n",
    "collection = database[\"mycollection\"]\n",
    "\n",
    "# Insert one record\n",
    "data = {\"name\": \"Alice\", \"age\": 25, \"city\": \"London\"}\n",
    "result = collection.insert_one(data)\n",
    "\n",
    "# Insert many records\n",
    "data_list = [\n",
    "    {\"name\": \"Bob\", \"age\": 30, \"city\": \"Paris\"},\n",
    "    {\"name\": \"Charlie\", \"age\": 35, \"city\": \"Berlin\"},\n",
    "    {\"name\": \"Dave\", \"age\": 40, \"city\": \"Madrid\"}\n",
    "]\n",
    "result = collection.insert_many(data_list)\n",
    "\n",
    "# Find one record\n",
    "result = collection.find_one({\"name\": \"Alice\"})\n",
    "print(result)\n",
    "\n",
    "# Find all records\n",
    "result = collection.find()\n",
    "for record in result:\n",
    "    print(record)\n"
   ]
  },
  {
   "cell_type": "markdown",
   "id": "9a96dce0-3ab3-4e70-8cae-afc8d3b42bdf",
   "metadata": {},
   "source": [
    "## Q5. Explain how you can use the find() method to query the MongoDB database. Write a simple code to demonstrate this."
   ]
  },
  {
   "cell_type": "markdown",
   "id": "baba08b7-3060-457b-b2f2-86322fea6716",
   "metadata": {},
   "source": [
    "The `find()` method in MongoDB is used to query the database and retrieve documents from a specified collection that match a certain criteria. The `find()` method can take a variety of arguments to define the search criteria, including:\n",
    "\n",
    "Query operators, such as `$eq, $ne, $gt, $lt, $in, and $regex,` which allow you to match documents based on specific field values or patterns.\n",
    "Projection operators, such as `$project and $slice,` which allow you to specify which fields to return and how to format the output.\n",
    "Sorting operators, such as `$sort`, which allow you to sort the results based on one or more fields.\n",
    "Limit and skip operators, such as `$limit and $skip,` which allow you to limit the number of results and skip over a certain number of results.\n",
    "Here's an example code that demonstrates how to use the `find()` method to query a MongoDB database:"
   ]
  },
  {
   "cell_type": "code",
   "execution_count": 5,
   "id": "38efa922-86ce-42df-bbee-92b1c2d82241",
   "metadata": {},
   "outputs": [
    {
     "name": "stdout",
     "output_type": "stream",
     "text": [
      "{'_id': ObjectId('63f507dab5275aa99c9acd0c'), 'name': 'Charlie', 'age': 35, 'city': 'Berlin'}\n",
      "{'_id': ObjectId('63f507dab5275aa99c9acd0d'), 'name': 'Dave', 'age': 40, 'city': 'Madrid'}\n"
     ]
    }
   ],
   "source": [
    "# Define the query criteria\n",
    "query = {\"age\": {\"$gt\": 30}}\n",
    "\n",
    "# Use the find() method to retrieve matching documents\n",
    "results = collection.find(query)\n",
    "\n",
    "# Loop through the results and print them\n",
    "for result in results:\n",
    "    print(result)\n"
   ]
  },
  {
   "cell_type": "markdown",
   "id": "c03f68a6-f550-40dd-9a8e-3d036bc4e460",
   "metadata": {},
   "source": [
    "In this code, we first connect to the MongoDB server and select the database and collection we want to query. Then, we define a query criteria using the `$gt` operator to match all documents where the age field is greater than 30.\n",
    "\n",
    "We pass this query to the `find()` method of the collection object, which returns a cursor object. We then loop through the results using a for loop and print each matching document to the console.\n",
    "\n",
    "Note that the `find()` method returns all matching documents by default. If you want to limit the number of results, you can use the `$limit` operator or the `limit()` method on the cursor object. If you want to skip over a certain number of results, you can use the $skip operator or the `skip()` method on the cursor object."
   ]
  },
  {
   "cell_type": "markdown",
   "id": "ba12db6d-1ce4-40d1-a104-d79372f55556",
   "metadata": {},
   "source": [
    "## Q6. Explain the sort() method. Give an example to demonstrate sorting in MongoDB."
   ]
  },
  {
   "cell_type": "code",
   "execution_count": 14,
   "id": "4d7b742e-1431-48f8-a0b5-74d4b6c4920a",
   "metadata": {},
   "outputs": [
    {
     "name": "stdout",
     "output_type": "stream",
     "text": [
      "{'_id': ObjectId('63f507dab5275aa99c9acd0c'), 'name': 'Charlie', 'age': 35, 'city': 'Berlin'}\n",
      "{'_id': ObjectId('63f507dab5275aa99c9acd0b'), 'name': 'Bob', 'age': 30, 'city': 'Paris'}\n",
      "{'_id': ObjectId('63f507dab5275aa99c9acd0a'), 'name': 'Alice', 'age': 25, 'city': 'London'}\n"
     ]
    }
   ],
   "source": [
    "query = {\"age\": {\"$lt\": 40}}\n",
    "results = collection.find(query).sort(\"age\", pymongo.DESCENDING)\n",
    "\n",
    "# Loop through the results and print them\n",
    "for result in results:\n",
    "    print(result)"
   ]
  },
  {
   "cell_type": "code",
   "execution_count": 15,
   "id": "b90456da-f31d-4ece-b49a-ad038e114f41",
   "metadata": {},
   "outputs": [
    {
     "name": "stdout",
     "output_type": "stream",
     "text": [
      "{'_id': ObjectId('63f507dab5275aa99c9acd0c'), 'name': 'Charlie', 'age': 35, 'city': 'Berlin'}\n",
      "{'_id': ObjectId('63f507dab5275aa99c9acd0b'), 'name': 'Bob', 'age': 30, 'city': 'Paris'}\n",
      "{'_id': ObjectId('63f507dab5275aa99c9acd0a'), 'name': 'Alice', 'age': 25, 'city': 'London'}\n"
     ]
    }
   ],
   "source": [
    "results = collection.find(query).sort([(\"age\", pymongo.DESCENDING), (\"name\", pymongo.DESCENDING)])\n",
    "\n",
    "# Loop through the results and print them\n",
    "for result in results:\n",
    "    print(result)"
   ]
  },
  {
   "cell_type": "markdown",
   "id": "e04fe1d9-33ea-429e-8d02-a14d231cac24",
   "metadata": {},
   "source": [
    "## Q7. Explain why delete_one(), delete_many(), and drop() is used."
   ]
  },
  {
   "cell_type": "markdown",
   "id": "b85f47d3-ef47-4991-b919-016a1e45230e",
   "metadata": {},
   "source": [
    "In MongoDB, there are different methods to delete documents and collections from a database:\n",
    "\n",
    "1. `delete_one()`: This method is used to delete a single document that matches the given filter. If multiple documents match the filter, only the first document will be deleted.\n",
    "\n",
    "2. `delete_many()`: This method is used to delete all documents that match the given filter. It can be used to delete multiple documents at once.\n",
    "\n",
    "3. `drop()`: This method is used to drop a collection from a database. It completely removes the collection and all of its data.\n",
    "\n",
    "The `delete_one()` and `delete_many()` methods are used to remove documents from a collection based on a given filter. For example, if you have a collection of users and you want to delete a user with a specific ID, you can use delete_one() to remove that user from the collection. Similarly, if you want to delete all users with a certain status, you can use delete_many() to remove all of those users from the collection.\n",
    "\n",
    "The `drop()` method, on the other hand, is used to completely remove a collection and all of its data. This is useful if you no longer need the collection and want to free up space in the database.\n",
    "\n",
    "It's important to be careful when using these methods, as they permanently remove data from the database. Always make sure to double-check your filter criteria before deleting any data."
   ]
  },
  {
   "cell_type": "markdown",
   "id": "8b4bea45-a9a5-4d67-a971-ed89621f299b",
   "metadata": {},
   "source": [
    "---"
   ]
  },
  {
   "cell_type": "markdown",
   "id": "16941ab9-34bb-41a8-a71d-17e40445b2d4",
   "metadata": {},
   "source": [
    "Created by -> Debabrata "
   ]
  }
 ],
 "metadata": {
  "kernelspec": {
   "display_name": "Python 3 (ipykernel)",
   "language": "python",
   "name": "python3"
  },
  "language_info": {
   "codemirror_mode": {
    "name": "ipython",
    "version": 3
   },
   "file_extension": ".py",
   "mimetype": "text/x-python",
   "name": "python",
   "nbconvert_exporter": "python",
   "pygments_lexer": "ipython3",
   "version": "3.10.8"
  }
 },
 "nbformat": 4,
 "nbformat_minor": 5
}
